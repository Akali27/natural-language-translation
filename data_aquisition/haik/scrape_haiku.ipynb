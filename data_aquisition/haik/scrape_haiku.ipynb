{
 "cells": [
  {
   "cell_type": "code",
   "execution_count": 68,
   "metadata": {},
   "outputs": [],
   "source": [
    "from selenium import webdriver\n",
    "import pandas as pd\n",
    "import string"
   ]
  },
  {
   "cell_type": "code",
   "execution_count": 2,
   "metadata": {},
   "outputs": [],
   "source": [
    "browser = webdriver.Chrome('/usr/local/bin/chromedriver')"
   ]
  },
  {
   "cell_type": "code",
   "execution_count": 3,
   "metadata": {},
   "outputs": [],
   "source": [
    "url = 'http://www.hsa-haiku.org/hendersonawards/henderson.htm'"
   ]
  },
  {
   "cell_type": "code",
   "execution_count": 4,
   "metadata": {},
   "outputs": [],
   "source": [
    "browser.get(url)"
   ]
  },
  {
   "cell_type": "code",
   "execution_count": 83,
   "metadata": {},
   "outputs": [],
   "source": [
    "def del_break(str):\n",
    "    new_str = str[1:]\n",
    "    return new_str"
   ]
  },
  {
   "cell_type": "code",
   "execution_count": 96,
   "metadata": {},
   "outputs": [],
   "source": [
    "with open('hks.txt', 'w') as file:\n",
    "    remove_punct_map = dict.fromkeys(map(ord, string.punctuation))\n",
    "    for td in browser.find_elements_by_xpath(('//td[@width=\"78%\"]')):\n",
    "        q = td.find_elements_by_xpath(('./blockquote/p'))\n",
    "        for t in q:\n",
    "            if (len(t.text) > 1):\n",
    "                haik = t.text\n",
    "                haik = haik.lstrip(' ')\n",
    "                haik = haik.translate(remove_punct_map)\n",
    "                haik  = haik.capitalize()\n",
    "                haik += '.'\n",
    "#                 print(len(haik.split()))\n",
    "                file.write(haik + '\\n')"
   ]
  },
  {
   "cell_type": "code",
   "execution_count": 101,
   "metadata": {},
   "outputs": [],
   "source": [
    "lengths = 0\n",
    "num = 0\n",
    "for td in browser.find_elements_by_xpath(('//td[@width=\"78%\"]')):\n",
    "    q = td.find_elements_by_xpath(('./blockquote/p'))\n",
    "    for t in q:\n",
    "        lengths += len(t.text.split())\n",
    "        num += 1\n",
    "#         print(t.text)\n",
    "#         print('-'*30)"
   ]
  },
  {
   "cell_type": "code",
   "execution_count": 102,
   "metadata": {},
   "outputs": [
    {
     "data": {
      "text/plain": [
       "9.184818481848184"
      ]
     },
     "execution_count": 102,
     "metadata": {},
     "output_type": "execute_result"
    }
   ],
   "source": [
    "lengths/num"
   ]
  },
  {
   "cell_type": "code",
   "execution_count": 35,
   "metadata": {},
   "outputs": [
    {
     "data": {
      "text/plain": [
       "303"
      ]
     },
     "execution_count": 35,
     "metadata": {},
     "output_type": "execute_result"
    }
   ],
   "source": [
    "tds3 = browser.find_elements_by_xpath(('//td[@width=\"78%\"]/blockquote/p'))\n",
    "len(tds3)"
   ]
  },
  {
   "cell_type": "code",
   "execution_count": 12,
   "metadata": {},
   "outputs": [],
   "source": [
    "quotes = [td.find_elements_by_tag_name('blockquote') for td in tds]"
   ]
  },
  {
   "cell_type": "code",
   "execution_count": 13,
   "metadata": {},
   "outputs": [
    {
     "data": {
      "text/plain": [
       "43"
      ]
     },
     "execution_count": 13,
     "metadata": {},
     "output_type": "execute_result"
    }
   ],
   "source": [
    "len(quotes)"
   ]
  },
  {
   "cell_type": "code",
   "execution_count": 23,
   "metadata": {},
   "outputs": [
    {
     "name": "stdout",
     "output_type": "stream",
     "text": [
      "0\n",
      "14\n",
      "16\n",
      "11\n",
      "14\n",
      "12\n",
      "10\n",
      "13\n",
      "6\n",
      "5\n",
      "5\n",
      "5\n",
      "8\n",
      "8\n",
      "5\n",
      "5\n",
      "7\n",
      "6\n",
      "7\n",
      "8\n",
      "7\n",
      "8\n",
      "7\n",
      "7\n",
      "7\n",
      "7\n",
      "3\n",
      "11\n",
      "8\n",
      "9\n",
      "6\n",
      "13\n",
      "10\n",
      "8\n",
      "3\n",
      "10\n",
      "13\n",
      "3\n",
      "11\n",
      "12\n",
      "1\n",
      "2\n",
      "3\n"
     ]
    }
   ],
   "source": [
    "for td in tds:\n",
    "    q = td.find_elements_by_tag_name('blockquote')\n",
    "    print(len(q))"
   ]
  },
  {
   "cell_type": "code",
   "execution_count": 119,
   "metadata": {},
   "outputs": [],
   "source": [
    "count = 0\n",
    "lin = 0\n",
    "with open('haikus_fin.txt', 'r') as f:\n",
    "    for line in f:\n",
    "#         print(line.split())\n",
    "        count += 1\n",
    "        words = line.split()\n",
    "#         print(words)\n",
    "        lin += len(line.split())\n",
    "        "
   ]
  },
  {
   "cell_type": "code",
   "execution_count": 121,
   "metadata": {},
   "outputs": [
    {
     "data": {
      "text/plain": [
       "3.20097244732577"
      ]
     },
     "execution_count": 121,
     "metadata": {},
     "output_type": "execute_result"
    }
   ],
   "source": [
    "lin/count"
   ]
  },
  {
   "cell_type": "code",
   "execution_count": 123,
   "metadata": {},
   "outputs": [
    {
     "data": {
      "text/plain": [
       "3950"
      ]
     },
     "execution_count": 123,
     "metadata": {},
     "output_type": "execute_result"
    }
   ],
   "source": []
  },
  {
   "cell_type": "code",
   "execution_count": null,
   "metadata": {},
   "outputs": [],
   "source": []
  }
 ],
 "metadata": {
  "kernelspec": {
   "display_name": "Python 3",
   "language": "python",
   "name": "python3"
  },
  "language_info": {
   "codemirror_mode": {
    "name": "ipython",
    "version": 3
   },
   "file_extension": ".py",
   "mimetype": "text/x-python",
   "name": "python",
   "nbconvert_exporter": "python",
   "pygments_lexer": "ipython3",
   "version": "3.6.5"
  }
 },
 "nbformat": 4,
 "nbformat_minor": 2
}
