{
 "cells": [
  {
   "cell_type": "code",
   "execution_count": 1,
   "metadata": {},
   "outputs": [],
   "source": [
    "from bs4 import BeautifulSoup\n",
    "import requests\n",
    "import pymongo\n",
    "import requests\n",
    "from selenium import webdriver\n",
    "import pandas as pd\n",
    "import time\n",
    "import urllib.request\n",
    "import re"
   ]
  },
  {
   "cell_type": "markdown",
   "metadata": {},
   "source": [
    "### Get text data"
   ]
  },
  {
   "cell_type": "code",
   "execution_count": 5,
   "metadata": {},
   "outputs": [],
   "source": [
    "#Get text data\n",
    "browser = webdriver.Chrome('/usr/local/bin/chromedriver')\n",
    "# browser.implicitly_wait(10)"
   ]
  },
  {
   "cell_type": "code",
   "execution_count": 6,
   "metadata": {},
   "outputs": [],
   "source": [
    "url = 'http://www.esperanto.ie/en/bilingual_texts/bilingual_'"
   ]
  },
  {
   "cell_type": "code",
   "execution_count": 7,
   "metadata": {},
   "outputs": [],
   "source": [
    "esp = ''\n",
    "engl = ''"
   ]
  },
  {
   "cell_type": "code",
   "execution_count": 8,
   "metadata": {},
   "outputs": [],
   "source": [
    "for x in range(1,104):\n",
    "    address = url + str(x) + '.html'\n",
    "    \n",
    "    try:\n",
    "        browser.get(address)\n",
    "        time.sleep(1)\n",
    "        \n",
    "        engl += browser.find_element_by_id('sidebar2').text\n",
    "        esp += browser.find_element_by_id('sidebar1').text\n",
    "            \n",
    "    except:\n",
    "        continue\n",
    "        "
   ]
  },
  {
   "cell_type": "code",
   "execution_count": 19,
   "metadata": {},
   "outputs": [],
   "source": [
    "esp_low = ''\n",
    "for word in esp.split(' '):\n",
    "    esp_low += ' ' + word.lower()\n"
   ]
  },
  {
   "cell_type": "code",
   "execution_count": 20,
   "metadata": {},
   "outputs": [],
   "source": [
    "engl_low = ''\n",
    "for word in engl.split(' '):\n",
    "    engl_low += ' ' + word.lower()\n"
   ]
  },
  {
   "cell_type": "code",
   "execution_count": null,
   "metadata": {},
   "outputs": [],
   "source": [
    "textfile = open('esperanto_data/esperanto.txt', 'w')\n",
    "textfile.write(esp)\n",
    "textfile.close()\n",
    "textfile = open('esperanto_data/english.txt', 'w')\n",
    "textfile.write(engl)\n",
    "textfile.close()"
   ]
  },
  {
   "cell_type": "code",
   "execution_count": 21,
   "metadata": {},
   "outputs": [],
   "source": [
    "textfile = open('esperanto_data/esperanto_low.txt', 'w')\n",
    "textfile.write(esp_low)\n",
    "textfile.close()\n",
    "textfile = open('esperanto_data/english_low.txt', 'w')\n",
    "textfile.write(engl_low)\n",
    "textfile.close()\n",
    "browser.quit()"
   ]
  },
  {
   "cell_type": "markdown",
   "metadata": {},
   "source": [
    "### Get dictionaries"
   ]
  },
  {
   "cell_type": "code",
   "execution_count": null,
   "metadata": {},
   "outputs": [],
   "source": [
    "# Get dictionaries\n",
    "eng_dict = ''\n",
    "esp_dict = ''\n",
    "# dictionary = urllib.request.urlopen('http://www.denisowski.org/Esperanto/ESPDIC/espdic.txt')\n",
    "with open('esperanto_data/espdic.txt', 'r') as dictionary:\n",
    "    \n",
    "    \n",
    "    for line in dictionary:\n",
    "\n",
    "#         line = line.decode('UTF-8') necessary when reading from url\n",
    "        if ('2 August 2015' in line):\n",
    "            continue\n",
    "\n",
    "        text = re.sub(r'\\([^)]*\\)', '', line) #remove brackets and their content\n",
    "        words = text.rstrip().split(':') #remove \\n \\r and split\n",
    "\n",
    "        if (len(words[1]) > 1):\n",
    "            for word in words[1].split(','):\n",
    "                esp_dict += (words[0].lower() + '\\n')\n",
    "                eng_dict += (word.lower() + '\\n')\n",
    "        else:\n",
    "            eng_dict += (words[1].lower() + '\\n')\n",
    "            esp_dict += (words[0].lower() + '\\n')"
   ]
  },
  {
   "cell_type": "code",
   "execution_count": null,
   "metadata": {},
   "outputs": [],
   "source": [
    "textfile = open('esperanto_data/esperanto_dict.txt', 'w')\n",
    "textfile.write(esp_dict)\n",
    "textfile.close()\n",
    "textfile = open('esperanto_data/english_dict.txt', 'w')\n",
    "textfile.write(eng_dict)\n",
    "textfile.close()"
   ]
  },
  {
   "cell_type": "markdown",
   "metadata": {},
   "source": [
    "### Study obtained data"
   ]
  },
  {
   "cell_type": "code",
   "execution_count": 22,
   "metadata": {},
   "outputs": [
    {
     "name": "stdout",
     "output_type": "stream",
     "text": [
      "66377 total number of words in esperanto dataset\n",
      "number of unique words - 3181\n"
     ]
    }
   ],
   "source": [
    "#Number of unique words in esperanto text\n",
    "esp_unique = set(esp.split())\n",
    "print(f'{len(esp)} total number of words in esperanto dataset')\n",
    "print(f'number of unique words - {len(esp_unique)}')"
   ]
  },
  {
   "cell_type": "code",
   "execution_count": 23,
   "metadata": {},
   "outputs": [
    {
     "name": "stdout",
     "output_type": "stream",
     "text": [
      "69511 total number of words in english dataset\n",
      "number of unique words - 2934\n"
     ]
    }
   ],
   "source": [
    "#Number of unique words in english text\n",
    "engl_unique = set(engl.split())\n",
    "print(f'{len(engl)} total number of words in english dataset')\n",
    "print(f'number of unique words - {len(engl_unique)}')"
   ]
  },
  {
   "cell_type": "code",
   "execution_count": 3,
   "metadata": {},
   "outputs": [
    {
     "name": "stdout",
     "output_type": "stream",
     "text": [
      "total number of lines in english dictionary = 90441\n"
     ]
    }
   ],
   "source": [
    "with open('esperanto_data/english_dict.txt', 'r') as file:\n",
    "    count = 0\n",
    "    for line in file:\n",
    "        count += 1\n",
    "    print(f'total number of lines in english dictionary = {count}')"
   ]
  },
  {
   "cell_type": "code",
   "execution_count": 4,
   "metadata": {},
   "outputs": [
    {
     "name": "stdout",
     "output_type": "stream",
     "text": [
      "total number of lines in esperanto dictionary = 90441\n"
     ]
    }
   ],
   "source": [
    "with open('esperanto_data/english_dict.txt', 'r') as file:\n",
    "    count = 0\n",
    "    for line in file:\n",
    "        count += 1\n",
    "    print(f'total number of lines in esperanto dictionary = {count}')"
   ]
  },
  {
   "cell_type": "code",
   "execution_count": null,
   "metadata": {},
   "outputs": [],
   "source": []
  }
 ],
 "metadata": {
  "kernelspec": {
   "display_name": "Python 3",
   "language": "python",
   "name": "python3"
  },
  "language_info": {
   "codemirror_mode": {
    "name": "ipython",
    "version": 3
   },
   "file_extension": ".py",
   "mimetype": "text/x-python",
   "name": "python",
   "nbconvert_exporter": "python",
   "pygments_lexer": "ipython3",
   "version": "3.6.5"
  }
 },
 "nbformat": 4,
 "nbformat_minor": 2
}
