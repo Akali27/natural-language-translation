{
 "cells": [
  {
   "cell_type": "code",
   "execution_count": 13,
   "metadata": {},
   "outputs": [],
   "source": [
    "from sklearn.externals import joblib\n",
    "from keras.models import load_model\n",
    "from keras.preprocessing.sequence import pad_sequences\n",
    "import numpy as np"
   ]
  },
  {
   "cell_type": "code",
   "execution_count": 2,
   "metadata": {},
   "outputs": [],
   "source": [
    "#define a model name to load\n",
    "model_name = 'model_01081_32'"
   ]
  },
  {
   "cell_type": "code",
   "execution_count": 9,
   "metadata": {},
   "outputs": [],
   "source": [
    "eng_tokenizer = joblib.load('data/' + model_name + '/eng_tokenizer.pkl')\n",
    "eng_length = joblib.load('data/' + model_name + '/eng_length.pkl')\n",
    "eng_vocab_size = len(eng_tokenizer.word_counts) + 1\n",
    "targ_tokenizer = joblib.load('data/' + model_name + '/targ_tokenizer.pkl')\n",
    "targ_length = joblib.load('data/' + model_name + '/targ_length.pkl')\n",
    "targ_vocab_size = len(targ_tokenizer.word_counts) + 1\n",
    "trainX = joblib.load('data/' + model_name + '/trainX.pkl')\n",
    "testX = joblib.load('data/' + model_name + '/testX.pkl')\n",
    "model = load_model('data/' + model_name + '/' + model_name + '.h5')"
   ]
  },
  {
   "cell_type": "code",
   "execution_count": 21,
   "metadata": {},
   "outputs": [],
   "source": [
    "def encode_input(input_text, tokenizer=eng_tokenizer, leng=eng_length):\n",
    "    input_text = [input_text]\n",
    "    token = tokenizer.texts_to_sequences(input_text)\n",
    "    token = pad_sequences(token, maxlen=leng, padding='post')\n",
    "    return token\n",
    "\n",
    "def translate(model, token):\n",
    "    for i, tok in enumerate(token):\n",
    "        tok = tok.reshape((1, tok.shape[0]))\n",
    "        translation = predict_sequence(model, targ_tokenizer, tok)\n",
    "        print(translation)\n",
    "        \n",
    "def word_for_id(integer, tokenizer):\n",
    "    for word, index in tokenizer.word_index.items():\n",
    "        if index == integer:\n",
    "            return word\n",
    "    return None\n",
    "\n",
    "def predict_sequence(model, tokenizer, source):\n",
    "    prediction = model.predict(source, verbose=0)[0]\n",
    "    integers = [np.argmax(vector) for vector in prediction]\n",
    "    target = []\n",
    "    for i in integers:\n",
    "        word = word_for_id(i, tokenizer)\n",
    "        if word is None:\n",
    "            break\n",
    "        target.append(word)\n",
    "    return ' '.join(target)"
   ]
  },
  {
   "cell_type": "code",
   "execution_count": 84,
   "metadata": {},
   "outputs": [
    {
     "name": "stdout",
     "output_type": "stream",
     "text": [
      "ella es sonroja\n"
     ]
    }
   ],
   "source": [
    "translate(model, encode_input('shes turning red'))"
   ]
  },
  {
   "cell_type": "code",
   "execution_count": null,
   "metadata": {},
   "outputs": [],
   "source": []
  }
 ],
 "metadata": {
  "kernelspec": {
   "display_name": "Python 3",
   "language": "python",
   "name": "python3"
  },
  "language_info": {
   "codemirror_mode": {
    "name": "ipython",
    "version": 3
   },
   "file_extension": ".py",
   "mimetype": "text/x-python",
   "name": "python",
   "nbconvert_exporter": "python",
   "pygments_lexer": "ipython3",
   "version": "3.6.5"
  }
 },
 "nbformat": 4,
 "nbformat_minor": 2
}
