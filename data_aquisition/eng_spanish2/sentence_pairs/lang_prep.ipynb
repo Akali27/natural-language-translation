{
 "cells": [
  {
   "cell_type": "code",
   "execution_count": null,
   "metadata": {},
   "outputs": [],
   "source": [
    "import string\n",
    "import re\n",
    "from pickle import dump\n",
    "from unicodedata import normalize\n",
    "from numpy import array"
   ]
  },
  {
   "cell_type": "code",
   "execution_count": null,
   "metadata": {},
   "outputs": [],
   "source": [
    "def load_doc(filename):\n",
    "    # open the file as read only\n",
    "    file = open(filename, mode='rt')\n",
    "    # read all text\n",
    "    text = file.read()\n",
    "    # close the file\n",
    "    file.close()\n",
    "    return text"
   ]
  },
  {
   "cell_type": "code",
   "execution_count": null,
   "metadata": {},
   "outputs": [],
   "source": [
    "def to_pairs(doc):\n",
    "    lines = doc.strip().split('\\n')\n",
    "    pairs = [line.split('\\t') for line in  lines]\n",
    "    return pairs"
   ]
  },
  {
   "cell_type": "code",
   "execution_count": null,
   "metadata": {},
   "outputs": [],
   "source": [
    "def clean_pairs(lines):\n",
    "    cleaned = list()\n",
    "    # prepare regex for char filtering\n",
    "    re_print = re.compile('[^%s]' % re.escape(string.printable))\n",
    "    # prepare translation table for removing punctuation\n",
    "    table = str.maketrans('', '', string.punctuation)\n",
    "    for pair in lines:\n",
    "        clean_pair = list()\n",
    "        for line in pair:\n",
    "            # normalize unicode characters\n",
    "            line = normalize('NFD', line).encode('ascii', 'ignore')\n",
    "            line = line.decode('UTF-8')\n",
    "            # tokenize on white space\n",
    "            line = line.split()\n",
    "            # convert to lowercase\n",
    "            line = [word.lower() for word in line]\n",
    "            # remove punctuation from each token\n",
    "            line = [word.translate(table) for word in line]\n",
    "            # remove non-printable chars form each token\n",
    "            line = [re_print.sub('', w) for w in line]\n",
    "            # remove tokens with numbers in them\n",
    "            line = [word for word in line if word.isalpha()]\n",
    "            # store as string\n",
    "            clean_pair.append(' '.join(line))\n",
    "        cleaned.append(clean_pair)\n",
    "    return array(cleaned)"
   ]
  },
  {
   "cell_type": "code",
   "execution_count": null,
   "metadata": {},
   "outputs": [],
   "source": [
    "def save_clean_data(sentences, filename):\n",
    "    dump(sentences, open(filename, 'wb'))\n",
    "    print('Saved: %s' % filename)"
   ]
  },
  {
   "cell_type": "code",
   "execution_count": null,
   "metadata": {},
   "outputs": [],
   "source": [
    "filename = 'spa.txt'\n",
    "doc = load_doc(filename)\n",
    "# split into english-german pairs\n",
    "pairs = to_pairs(doc)\n",
    "# clean sentences\n",
    "clean_pairs = clean_pairs(pairs)\n",
    "# save clean pairs to file\n",
    "save_clean_data(clean_pairs, 'english-spanish.pkl')\n",
    "# spot check\n",
    "for i in range(100):\n",
    "    print('[%s] => [%s]' % (clean_pairs[i,0], clean_pairs[i,1]))"
   ]
  },
  {
   "cell_type": "code",
   "execution_count": 1,
   "metadata": {},
   "outputs": [
    {
     "name": "stdout",
     "output_type": "stream",
     "text": [
      "Saved: english-spanish-both.pkl\n",
      "Saved: english-spanish-train.pkl\n",
      "Saved: english-spanish-test.pkl\n"
     ]
    }
   ],
   "source": [
    "from pickle import load\n",
    "from pickle import dump\n",
    "from numpy.random import rand\n",
    "from numpy.random import shuffle\n",
    " \n",
    "# load a clean dataset\n",
    "def load_clean_sentences(filename):\n",
    "    return load(open(filename, 'rb'))\n",
    " \n",
    "# save a list of clean sentences to file\n",
    "def save_clean_data(sentences, filename):\n",
    "    dump(sentences, open(filename, 'wb'))\n",
    "    print('Saved: %s' % filename)\n",
    " \n",
    "# load dataset\n",
    "raw_dataset = load_clean_sentences('english-spanish.pkl')\n",
    "shuffle(raw_dataset)\n",
    "# reduce dataset size\n",
    "n_sentences = 8000\n",
    "dataset = raw_dataset[:n_sentences, :]\n",
    "# random shuffle\n",
    "shuffle(dataset)\n",
    "# split into train/test\n",
    "train, test = dataset[:7000], dataset[7000:]\n",
    "# save\n",
    "save_clean_data(dataset, 'english-spanish-both.pkl')\n",
    "save_clean_data(train, 'english-spanish-train.pkl')\n",
    "save_clean_data(test, 'english-spanish-test.pkl')"
   ]
  },
  {
   "cell_type": "code",
   "execution_count": 2,
   "metadata": {},
   "outputs": [
    {
     "name": "stderr",
     "output_type": "stream",
     "text": [
      "/Users/sonik/anaconda3/envs/pythondata/lib/python3.6/site-packages/h5py/__init__.py:36: FutureWarning: Conversion of the second argument of issubdtype from `float` to `np.floating` is deprecated. In future, it will be treated as `np.float64 == np.dtype(float).type`.\n",
      "  from ._conv import register_converters as _register_converters\n",
      "Using TensorFlow backend.\n"
     ]
    }
   ],
   "source": [
    "from pickle import load\n",
    "from numpy import array\n",
    "from keras.preprocessing.text import Tokenizer\n",
    "from keras.preprocessing.sequence import pad_sequences\n",
    "from keras.utils import to_categorical\n",
    "from keras.utils.vis_utils import plot_model\n",
    "from keras.models import Sequential\n",
    "from keras.layers import LSTM\n",
    "from keras.layers import Dense\n",
    "from keras.layers import Embedding\n",
    "from keras.layers import RepeatVector\n",
    "from keras.layers import TimeDistributed\n",
    "from keras.callbacks import ModelCheckpoint"
   ]
  },
  {
   "cell_type": "code",
   "execution_count": 3,
   "metadata": {},
   "outputs": [],
   "source": [
    "def load_clean_sentences(filename):\n",
    "    return load(open(filename, 'rb'))\n",
    " \n",
    "# fit a tokenizer\n",
    "def create_tokenizer(lines):\n",
    "    tokenizer = Tokenizer()\n",
    "    tokenizer.fit_on_texts(lines)\n",
    "    return tokenizer\n",
    " \n",
    "# max sentence length\n",
    "def max_length(lines):\n",
    "    return max(len(line.split()) for line in lines)\n",
    " \n",
    "# encode and pad sequences\n",
    "def encode_sequences(tokenizer, length, lines):\n",
    "    # integer encode sequences\n",
    "    X = tokenizer.texts_to_sequences(lines)\n",
    "    # pad sequences with 0 values\n",
    "    X = pad_sequences(X, maxlen=length, padding='post')\n",
    "    return X\n",
    " \n",
    "# one hot encode target sequence\n",
    "def encode_output(sequences, vocab_size):\n",
    "    ylist = list()\n",
    "    for sequence in sequences:\n",
    "        encoded = to_categorical(sequence, num_classes=vocab_size)\n",
    "        ylist.append(encoded)\n",
    "    y = array(ylist)\n",
    "    y = y.reshape(sequences.shape[0], sequences.shape[1], vocab_size)\n",
    "    return y\n",
    " \n",
    "# define NMT model\n",
    "def define_model(src_vocab, tar_vocab, src_timesteps, tar_timesteps, n_units):\n",
    "    model = Sequential()\n",
    "    model.add(Embedding(src_vocab, n_units, input_length=src_timesteps, mask_zero=True))\n",
    "    model.add(LSTM(n_units))\n",
    "    model.add(RepeatVector(tar_timesteps))\n",
    "    model.add(LSTM(n_units, return_sequences=True))\n",
    "    model.add(TimeDistributed(Dense(tar_vocab, activation='softmax')))\n",
    "    return model\n"
   ]
  },
  {
   "cell_type": "code",
   "execution_count": 4,
   "metadata": {},
   "outputs": [],
   "source": [
    "dataset = load_clean_sentences('english-spanish-both.pkl')\n",
    "train = load_clean_sentences('english-spanish-train.pkl')\n",
    "shuffle(train)\n",
    "test = load_clean_sentences('english-spanish-test.pkl')\n",
    "shuffle(test)"
   ]
  },
  {
   "cell_type": "code",
   "execution_count": 11,
   "metadata": {},
   "outputs": [
    {
     "data": {
      "text/plain": [
       "array([['variety is the spice of life',\n",
       "        'la variedad es la salsa de la vida'],\n",
       "       ['i do not feel like drinking beer tonight',\n",
       "        'esta noche no tengo ganas de beber cerveza'],\n",
       "       ['she pushed him out the window', 'ella le empujo por la ventana'],\n",
       "       ...,\n",
       "       ['ive always loved you', 'siempre te he querido'],\n",
       "       ['tom is thorough', 'tom es meticuloso'],\n",
       "       ['everything weve told you is true',\n",
       "        'todo lo que te hemos contado es cierto']], dtype='<U275')"
      ]
     },
     "execution_count": 11,
     "metadata": {},
     "output_type": "execute_result"
    }
   ],
   "source": [
    "test"
   ]
  },
  {
   "cell_type": "code",
   "execution_count": 5,
   "metadata": {},
   "outputs": [
    {
     "name": "stdout",
     "output_type": "stream",
     "text": [
      "English Vocabulary Size: 4440\n",
      "English Max Length: 26\n",
      "Spanish Vocabulary Size: 6633\n",
      "Spanish Max Length: 30\n"
     ]
    }
   ],
   "source": [
    "eng_tokenizer = create_tokenizer(dataset[:, 0])\n",
    "eng_vocab_size = len(eng_tokenizer.word_index) + 1\n",
    "eng_length = max_length(dataset[:, 0])\n",
    "print('English Vocabulary Size: %d' % eng_vocab_size)\n",
    "print('English Max Length: %d' % (eng_length))\n",
    "# prepare german tokenizer\n",
    "spa_tokenizer = create_tokenizer(dataset[:, 1])\n",
    "spa_vocab_size = len(spa_tokenizer.word_index) + 1\n",
    "spa_length = max_length(dataset[:, 1])\n",
    "print('Spanish Vocabulary Size: %d' % spa_vocab_size)\n",
    "print('Spanish Max Length: %d' % (spa_length))"
   ]
  },
  {
   "cell_type": "code",
   "execution_count": 6,
   "metadata": {},
   "outputs": [],
   "source": [
    "trainX = encode_sequences(eng_tokenizer, eng_length, train[:, 0])\n",
    "trainY = encode_sequences(spa_tokenizer, spa_length, train[:, 1])\n",
    "trainY = encode_output(trainY, spa_vocab_size)\n",
    "# prepare validation data\n",
    "testX = encode_sequences(eng_tokenizer, eng_length, test[:, 0])\n",
    "testY = encode_sequences(spa_tokenizer, spa_length, test[:, 1])\n",
    "testY = encode_output(testY, spa_vocab_size)"
   ]
  },
  {
   "cell_type": "code",
   "execution_count": 7,
   "metadata": {},
   "outputs": [],
   "source": [
    "model = define_model(eng_vocab_size, spa_vocab_size, eng_length, spa_length, 256)\n",
    "model.compile(optimizer='adam', loss='categorical_crossentropy')"
   ]
  },
  {
   "cell_type": "code",
   "execution_count": 8,
   "metadata": {},
   "outputs": [
    {
     "name": "stdout",
     "output_type": "stream",
     "text": [
      "_________________________________________________________________\n",
      "Layer (type)                 Output Shape              Param #   \n",
      "=================================================================\n",
      "embedding_1 (Embedding)      (None, 26, 256)           1136640   \n",
      "_________________________________________________________________\n",
      "lstm_1 (LSTM)                (None, 256)               525312    \n",
      "_________________________________________________________________\n",
      "repeat_vector_1 (RepeatVecto (None, 30, 256)           0         \n",
      "_________________________________________________________________\n",
      "lstm_2 (LSTM)                (None, 30, 256)           525312    \n",
      "_________________________________________________________________\n",
      "time_distributed_1 (TimeDist (None, 30, 6633)          1704681   \n",
      "=================================================================\n",
      "Total params: 3,891,945\n",
      "Trainable params: 3,891,945\n",
      "Non-trainable params: 0\n",
      "_________________________________________________________________\n",
      "None\n"
     ]
    }
   ],
   "source": [
    "print(model.summary())\n",
    "plot_model(model, to_file='model.png', show_shapes=True)"
   ]
  },
  {
   "cell_type": "code",
   "execution_count": 9,
   "metadata": {},
   "outputs": [
    {
     "name": "stdout",
     "output_type": "stream",
     "text": [
      "Train on 7000 samples, validate on 1000 samples\n",
      "Epoch 1/20\n",
      " - 126s - loss: 2.5294 - val_loss: 1.5582\n",
      "\n",
      "Epoch 00001: val_loss improved from inf to 1.55817, saving model to model1.h5\n",
      "Epoch 2/20\n",
      " - 122s - loss: 1.5021 - val_loss: 1.4912\n",
      "\n",
      "Epoch 00002: val_loss improved from 1.55817 to 1.49118, saving model to model1.h5\n",
      "Epoch 3/20\n",
      " - 121s - loss: 1.4568 - val_loss: 1.4850\n",
      "\n",
      "Epoch 00003: val_loss improved from 1.49118 to 1.48502, saving model to model1.h5\n",
      "Epoch 4/20\n",
      " - 119s - loss: 1.4296 - val_loss: 1.4715\n",
      "\n",
      "Epoch 00004: val_loss improved from 1.48502 to 1.47153, saving model to model1.h5\n",
      "Epoch 5/20\n",
      " - 123s - loss: 1.4046 - val_loss: 1.4692\n",
      "\n",
      "Epoch 00005: val_loss improved from 1.47153 to 1.46915, saving model to model1.h5\n",
      "Epoch 6/20\n",
      " - 124s - loss: 1.3905 - val_loss: 1.4678\n",
      "\n",
      "Epoch 00006: val_loss improved from 1.46915 to 1.46780, saving model to model1.h5\n",
      "Epoch 7/20\n",
      " - 128s - loss: 1.3779 - val_loss: 1.4728\n",
      "\n",
      "Epoch 00007: val_loss did not improve from 1.46780\n",
      "Epoch 8/20\n",
      " - 134s - loss: 1.3675 - val_loss: 1.4813\n",
      "\n",
      "Epoch 00008: val_loss did not improve from 1.46780\n",
      "Epoch 9/20\n",
      " - 140s - loss: 1.3511 - val_loss: 1.4720\n",
      "\n",
      "Epoch 00009: val_loss did not improve from 1.46780\n",
      "Epoch 10/20\n",
      " - 130s - loss: 1.3367 - val_loss: 1.4930\n",
      "\n",
      "Epoch 00010: val_loss did not improve from 1.46780\n",
      "Epoch 11/20\n",
      " - 128s - loss: 1.3361 - val_loss: 1.4779\n",
      "\n",
      "Epoch 00011: val_loss did not improve from 1.46780\n",
      "Epoch 12/20\n",
      " - 119s - loss: 1.3230 - val_loss: 1.4869\n",
      "\n",
      "Epoch 00012: val_loss did not improve from 1.46780\n",
      "Epoch 13/20\n",
      " - 117s - loss: 1.3140 - val_loss: 1.4867\n",
      "\n",
      "Epoch 00013: val_loss did not improve from 1.46780\n",
      "Epoch 14/20\n",
      " - 117s - loss: 1.3065 - val_loss: 1.4887\n",
      "\n",
      "Epoch 00014: val_loss did not improve from 1.46780\n",
      "Epoch 15/20\n",
      " - 116s - loss: 1.2990 - val_loss: 1.4918\n",
      "\n",
      "Epoch 00015: val_loss did not improve from 1.46780\n",
      "Epoch 16/20\n",
      " - 125s - loss: 1.2914 - val_loss: 1.4876\n",
      "\n",
      "Epoch 00016: val_loss did not improve from 1.46780\n",
      "Epoch 17/20\n",
      " - 121s - loss: 1.2836 - val_loss: 1.4899\n",
      "\n",
      "Epoch 00017: val_loss did not improve from 1.46780\n",
      "Epoch 18/20\n",
      " - 120s - loss: 1.2740 - val_loss: 1.4990\n",
      "\n",
      "Epoch 00018: val_loss did not improve from 1.46780\n",
      "Epoch 19/20\n",
      " - 123s - loss: 1.2642 - val_loss: 1.4961\n",
      "\n",
      "Epoch 00019: val_loss did not improve from 1.46780\n",
      "Epoch 20/20\n",
      " - 122s - loss: 1.2556 - val_loss: 1.4891\n",
      "\n",
      "Epoch 00020: val_loss did not improve from 1.46780\n"
     ]
    },
    {
     "data": {
      "text/plain": [
       "<keras.callbacks.History at 0xb3795f128>"
      ]
     },
     "execution_count": 9,
     "metadata": {},
     "output_type": "execute_result"
    }
   ],
   "source": [
    "filename = 'model1.h5'\n",
    "checkpoint = ModelCheckpoint(filename, monitor='val_loss', verbose=1, save_best_only=True, mode='min')\n",
    "model.fit(trainX, trainY, epochs=20, batch_size=64, validation_data=(testX, testY), callbacks=[checkpoint], verbose=2)\n"
   ]
  },
  {
   "cell_type": "code",
   "execution_count": null,
   "metadata": {},
   "outputs": [],
   "source": []
  },
  {
   "cell_type": "code",
   "execution_count": null,
   "metadata": {},
   "outputs": [],
   "source": []
  },
  {
   "cell_type": "code",
   "execution_count": null,
   "metadata": {},
   "outputs": [],
   "source": []
  },
  {
   "cell_type": "code",
   "execution_count": null,
   "metadata": {},
   "outputs": [],
   "source": []
  },
  {
   "cell_type": "code",
   "execution_count": null,
   "metadata": {},
   "outputs": [],
   "source": []
  },
  {
   "cell_type": "code",
   "execution_count": null,
   "metadata": {},
   "outputs": [],
   "source": []
  },
  {
   "cell_type": "code",
   "execution_count": null,
   "metadata": {},
   "outputs": [],
   "source": []
  },
  {
   "cell_type": "code",
   "execution_count": null,
   "metadata": {},
   "outputs": [],
   "source": []
  },
  {
   "cell_type": "code",
   "execution_count": null,
   "metadata": {},
   "outputs": [],
   "source": []
  },
  {
   "cell_type": "code",
   "execution_count": null,
   "metadata": {},
   "outputs": [],
   "source": []
  }
 ],
 "metadata": {
  "kernelspec": {
   "display_name": "Python 3",
   "language": "python",
   "name": "python3"
  },
  "language_info": {
   "codemirror_mode": {
    "name": "ipython",
    "version": 3
   },
   "file_extension": ".py",
   "mimetype": "text/x-python",
   "name": "python",
   "nbconvert_exporter": "python",
   "pygments_lexer": "ipython3",
   "version": "3.6.5"
  }
 },
 "nbformat": 4,
 "nbformat_minor": 2
}
