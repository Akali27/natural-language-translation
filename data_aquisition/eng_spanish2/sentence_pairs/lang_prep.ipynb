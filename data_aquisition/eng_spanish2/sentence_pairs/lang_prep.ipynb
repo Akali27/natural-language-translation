{
 "cells": [
  {
   "cell_type": "markdown",
   "metadata": {},
   "source": [
    "## Get data from URL and save"
   ]
  },
  {
   "cell_type": "code",
   "execution_count": 1,
   "metadata": {},
   "outputs": [],
   "source": [
    "# download dataset\n",
    "def get_data(link):\n",
    "    \n",
    "    from zipfile import ZipFile\n",
    "    import requests\n",
    "    import os\n",
    "    \n",
    "    output = 'temp.zip'\n",
    "\n",
    "    response = requests.get(link, stream=True)\n",
    "    handle = open(output, \"wb\")\n",
    "    for chunk in response.iter_content(chunk_size=512):\n",
    "        if chunk:\n",
    "            handle.write(chunk)\n",
    "    handle.close()\n",
    "\n",
    "\n",
    "    with ZipFile(output,\"r\") as zip_file:\n",
    "        for name in zip_file.namelist():\n",
    "            if name != '_about.txt':\n",
    "                filename = name\n",
    "        zip_file.extractall(\"data\")\n",
    "    \n",
    "    os.remove('temp.zip')\n",
    "    os.remove('data/_about.txt')\n",
    "    return filename"
   ]
  },
  {
   "cell_type": "code",
   "execution_count": 2,
   "metadata": {},
   "outputs": [],
   "source": [
    "path = 'data/' + get_data('http://www.manythings.org/anki/spa-eng.zip')"
   ]
  },
  {
   "cell_type": "code",
   "execution_count": 3,
   "metadata": {},
   "outputs": [
    {
     "data": {
      "text/plain": [
       "'data/spa.txt'"
      ]
     },
     "execution_count": 3,
     "metadata": {},
     "output_type": "execute_result"
    }
   ],
   "source": [
    "path"
   ]
  },
  {
   "cell_type": "markdown",
   "metadata": {},
   "source": [
    "## Clean data"
   ]
  },
  {
   "cell_type": "code",
   "execution_count": 10,
   "metadata": {},
   "outputs": [],
   "source": [
    "def clean_lines(line):\n",
    "    \n",
    "    from unicodedata import normalize\n",
    "    import string\n",
    "    \n",
    "    remove_punct_map = dict.fromkeys(map(ord, string.punctuation)) # thank you Reed!\n",
    "    \n",
    "    line = normalize('NFD', line).encode('ascii', 'ignore')\n",
    "    line = line.decode('UTF-8')\n",
    "    line = line.split()\n",
    "    line = [word.lower() for word in line]\n",
    "    line = [word.translate(remove_punct_map) for word in line]\n",
    "    line = [word for word in line if word.isalpha()]\n",
    "    \n",
    "    return(line)"
   ]
  },
  {
   "cell_type": "code",
   "execution_count": 11,
   "metadata": {},
   "outputs": [],
   "source": [
    "def clean_data(filepath):\n",
    "    \n",
    "    import numpy as np\n",
    "    \n",
    "    import re\n",
    "    \n",
    "    file = open(filepath, mode='rt')\n",
    "    text = file.read()\n",
    "    file.close()\n",
    "    \n",
    "    lines = text.strip().split('\\n')\n",
    "    pairs = [line.split('\\t') for line in  lines]\n",
    "    \n",
    "    all_cleaned = []\n",
    "    \n",
    "\n",
    "    \n",
    "    for pair in pairs:\n",
    "        cleaned_pair = []\n",
    "        for sentence in pair:\n",
    "            clean_sentence = clean_lines(sentence)\n",
    "            cleaned_pair.append(' '.join(clean_sentence))\n",
    "            \n",
    "        all_cleaned.append(cleaned_pair)\n",
    "    \n",
    "    no_duplicates = []\n",
    "    previous_line = ''\n",
    "    \n",
    "    for line in all_cleaned:\n",
    "        if (line[0] != previous_line) and (' tom' not in line[0]) and ('tom ' not in line[0]):\n",
    "            no_duplicates.append(line)\n",
    "            previous_line = line[0] \n",
    "          \n",
    "        \n",
    "    return np.array(no_duplicates)"
   ]
  },
  {
   "cell_type": "code",
   "execution_count": 12,
   "metadata": {},
   "outputs": [],
   "source": [
    "clean_data = clean_data(path)"
   ]
  },
  {
   "cell_type": "code",
   "execution_count": 13,
   "metadata": {},
   "outputs": [
    {
     "data": {
      "text/plain": [
       "array([['i like chess', 'me gusta el ajedrez'],\n",
       "       ['i like fruit', 'me gusta la fruta'],\n",
       "       ['i like honey', 'me gusta la miel'],\n",
       "       ['i like opera', 'me gusta la opera'],\n",
       "       ['i like pizza', 'me gusta la pizza'],\n",
       "       ['i like sushi', 'me gusta el sushi'],\n",
       "       ['i like these', 'me gusta eso'],\n",
       "       ['i like women', 'me gustan las mujeres'],\n",
       "       ['i live alone', 'yo vivo solo'],\n",
       "       ['i love books', 'me encantan los libros']], dtype='<U275')"
      ]
     },
     "execution_count": 13,
     "metadata": {},
     "output_type": "execute_result"
    }
   ],
   "source": [
    "clean_data[1600:1610]"
   ]
  },
  {
   "cell_type": "code",
   "execution_count": 14,
   "metadata": {},
   "outputs": [
    {
     "data": {
      "text/plain": [
       "(83783, 2)"
      ]
     },
     "execution_count": 14,
     "metadata": {},
     "output_type": "execute_result"
    }
   ],
   "source": [
    "clean_data.shape"
   ]
  },
  {
   "cell_type": "markdown",
   "metadata": {},
   "source": [
    "## Split in test and train"
   ]
  },
  {
   "cell_type": "code",
   "execution_count": 18,
   "metadata": {},
   "outputs": [],
   "source": [
    "def split_data(dataset):\n",
    "    import numpy as np\n",
    "    from sklearn.externals import joblib\n",
    "    \n",
    "    lines_number = 10000\n",
    "    new_set = dataset[:lines_number, :]\n",
    "    \n",
    "    np.random.shuffle(new_set)\n",
    "    train, test = new_set[:9000], new_set[9000:]\n",
    "    \n",
    "    \n",
    "\n",
    "    joblib.dump(new_set, 'data/dataset.pkl')\n",
    "    joblib.dump(train, 'data/train.pkl')\n",
    "    joblib.dump(test, 'data/test.pkl')\n",
    "    \n",
    "    return new_set, train, test"
   ]
  },
  {
   "cell_type": "code",
   "execution_count": 19,
   "metadata": {},
   "outputs": [],
   "source": [
    "dataset, train, test = split_data(clean_data)"
   ]
  },
  {
   "cell_type": "code",
   "execution_count": 45,
   "metadata": {},
   "outputs": [
    {
     "data": {
      "text/plain": [
       "9000"
      ]
     },
     "execution_count": 45,
     "metadata": {},
     "output_type": "execute_result"
    }
   ],
   "source": [
    "len(train)"
   ]
  },
  {
   "cell_type": "markdown",
   "metadata": {},
   "source": [
    "## Tokenize data"
   ]
  },
  {
   "cell_type": "code",
   "execution_count": 27,
   "metadata": {},
   "outputs": [
    {
     "name": "stderr",
     "output_type": "stream",
     "text": [
      "/Users/sonik/anaconda3/envs/pythondata/lib/python3.6/site-packages/h5py/__init__.py:36: FutureWarning: Conversion of the second argument of issubdtype from `float` to `np.floating` is deprecated. In future, it will be treated as `np.float64 == np.dtype(float).type`.\n",
      "  from ._conv import register_converters as _register_converters\n",
      "Using TensorFlow backend.\n"
     ]
    }
   ],
   "source": [
    "from keras.preprocessing.text import Tokenizer"
   ]
  },
  {
   "cell_type": "code",
   "execution_count": 49,
   "metadata": {},
   "outputs": [
    {
     "name": "stdout",
     "output_type": "stream",
     "text": [
      "a number of unique words in english dataset - 2957\n",
      "max sentence size english dataset - 5\n",
      "a number of unique words in target dataset - 4649\n",
      "max sentence size target dataset - 9\n"
     ]
    }
   ],
   "source": [
    "eng_tokenizer = Tokenizer()\n",
    "eng_tokenizer.fit_on_texts(dataset[:,0])\n",
    "eng_length = max(len(line.split()) for line in dataset[:,0])\n",
    "eng_vocab_size = len(eng_tokenizer.word_counts) + 1\n",
    "targ_tokenizer = Tokenizer()\n",
    "targ_tokenizer.fit_on_texts(dataset[:,1])\n",
    "targ_length = max(len(line.split()) for line in dataset[:,1])\n",
    "targ_vocab_size = len(targ_tokenizer.word_counts) + 1\n",
    "print(f'a number of unique words in english dataset - {len(eng_tokenizer.word_counts)}')\n",
    "print(f'max sentence size english dataset - {eng_length}')\n",
    "print(f'a number of unique words in target dataset - {len(targ_tokenizer.word_counts)}')\n",
    "print(f'max sentence size target dataset - {targ_length}')"
   ]
  },
  {
   "cell_type": "markdown",
   "metadata": {},
   "source": [
    "### Encoding"
   ]
  },
  {
   "cell_type": "code",
   "execution_count": 65,
   "metadata": {},
   "outputs": [],
   "source": [
    "from keras.preprocessing.sequence import pad_sequences\n",
    "from keras.utils import to_categorical"
   ]
  },
  {
   "cell_type": "code",
   "execution_count": 68,
   "metadata": {},
   "outputs": [],
   "source": [
    "trainX = eng_tokenizer.texts_to_sequences(train[:,0])"
   ]
  },
  {
   "cell_type": "code",
   "execution_count": 70,
   "metadata": {},
   "outputs": [
    {
     "data": {
      "text/plain": [
       "[[104, 1612],\n",
       " [26, 1131],\n",
       " [672, 270, 211],\n",
       " [6, 1132],\n",
       " [107, 402],\n",
       " [1, 403, 1613],\n",
       " [90, 1, 23, 69, 43],\n",
       " [1, 62, 54, 4, 404],\n",
       " [11, 66, 168],\n",
       " [18, 100, 228]]"
      ]
     },
     "execution_count": 70,
     "metadata": {},
     "output_type": "execute_result"
    }
   ],
   "source": [
    "trainX[:10]"
   ]
  },
  {
   "cell_type": "code",
   "execution_count": 66,
   "metadata": {},
   "outputs": [],
   "source": [
    "trainX = pad_sequences(trainX, maxlen=eng_length, padding='post')"
   ]
  },
  {
   "cell_type": "code",
   "execution_count": 67,
   "metadata": {},
   "outputs": [
    {
     "data": {
      "text/plain": [
       "array([[ 104, 1612,    0,    0,    0],\n",
       "       [  26, 1131,    0,    0,    0],\n",
       "       [ 672,  270,  211,    0,    0],\n",
       "       ...,\n",
       "       [ 182,    5,  187,    0,    0],\n",
       "       [   1,  837,   17,  468,    0],\n",
       "       [ 103,   37,    1,   43,    0]], dtype=int32)"
      ]
     },
     "execution_count": 67,
     "metadata": {},
     "output_type": "execute_result"
    }
   ],
   "source": [
    "trainX"
   ]
  },
  {
   "cell_type": "code",
   "execution_count": 109,
   "metadata": {},
   "outputs": [],
   "source": [
    "trainY = targ_tokenizer.texts_to_sequences(train[:,1])\n",
    "trainY = pad_sequences(trainY, maxlen=targ_length, padding='post')"
   ]
  },
  {
   "cell_type": "code",
   "execution_count": 110,
   "metadata": {},
   "outputs": [
    {
     "data": {
      "text/plain": [
       "array([[   2,  123, 2191,    0,    0,    0,    0,    0,    0],\n",
       "       [  40, 2192,    0,    0,    0,    0,    0,    0,    0],\n",
       "       [1046, 1047, 1048,    0,    0,    0,    0,    0,    0],\n",
       "       [  19, 1424,    0,    0,    0,    0,    0,    0,    0],\n",
       "       [   1,  400,    0,    0,    0,    0,    0,    0,    0]],\n",
       "      dtype=int32)"
      ]
     },
     "execution_count": 110,
     "metadata": {},
     "output_type": "execute_result"
    }
   ],
   "source": [
    "trainY[:5]"
   ]
  },
  {
   "cell_type": "code",
   "execution_count": 100,
   "metadata": {},
   "outputs": [],
   "source": [
    "trainY = to_categorical(trainY, num_classes=targ_vocab_size)"
   ]
  },
  {
   "cell_type": "code",
   "execution_count": 123,
   "metadata": {},
   "outputs": [
    {
     "data": {
      "text/plain": [
       "array([[0., 0., 0., ..., 0., 0., 0.],\n",
       "       [0., 0., 0., ..., 0., 0., 0.],\n",
       "       [0., 0., 0., ..., 0., 0., 0.],\n",
       "       ...,\n",
       "       [1., 0., 0., ..., 0., 0., 0.],\n",
       "       [1., 0., 0., ..., 0., 0., 0.],\n",
       "       [1., 0., 0., ..., 0., 0., 0.]], dtype=float32)"
      ]
     },
     "execution_count": 123,
     "metadata": {},
     "output_type": "execute_result"
    }
   ],
   "source": [
    "trainY[6]"
   ]
  },
  {
   "cell_type": "code",
   "execution_count": 114,
   "metadata": {},
   "outputs": [
    {
     "data": {
      "text/plain": [
       "array([[   7,   51,  127,    5,    0],\n",
       "       [  74, 1331,    0,    0,    0],\n",
       "       [   3,    7, 2803,    0,    0],\n",
       "       ...,\n",
       "       [ 105,   62,  104,    0,    0],\n",
       "       [   7,  249,  475,    0,    0],\n",
       "       [  11,    4,  751,    0,    0]], dtype=int32)"
      ]
     },
     "execution_count": 114,
     "metadata": {},
     "output_type": "execute_result"
    }
   ],
   "source": [
    "testX = eng_tokenizer.texts_to_sequences(test[:,0])\n",
    "testX = pad_sequences(testX, maxlen=eng_length, padding='post')\n",
    "testX"
   ]
  },
  {
   "cell_type": "code",
   "execution_count": 122,
   "metadata": {},
   "outputs": [
    {
     "data": {
      "text/plain": [
       "array([[0., 0., 1., ..., 0., 0., 0.],\n",
       "       [0., 0., 0., ..., 0., 0., 0.],\n",
       "       [0., 0., 0., ..., 0., 0., 0.],\n",
       "       ...,\n",
       "       [1., 0., 0., ..., 0., 0., 0.],\n",
       "       [1., 0., 0., ..., 0., 0., 0.],\n",
       "       [1., 0., 0., ..., 0., 0., 0.]], dtype=float32)"
      ]
     },
     "execution_count": 122,
     "metadata": {},
     "output_type": "execute_result"
    }
   ],
   "source": [
    "testY = targ_tokenizer.texts_to_sequences(test[:,1])\n",
    "testY = pad_sequences(testY, maxlen=targ_length, padding='post')\n",
    "testY = to_categorical(testY, num_classes=targ_vocab_size)\n",
    "testY[6]"
   ]
  },
  {
   "cell_type": "markdown",
   "metadata": {},
   "source": [
    "## Define model"
   ]
  },
  {
   "cell_type": "code",
   "execution_count": 125,
   "metadata": {},
   "outputs": [],
   "source": [
    "from keras.models import Sequential\n",
    "from keras.layers import LSTM\n",
    "from keras.layers import Dense\n",
    "from keras.layers import Embedding\n",
    "from keras.layers import RepeatVector\n",
    "from keras.layers import TimeDistributed\n",
    "from keras.callbacks import ModelCheckpoint"
   ]
  },
  {
   "cell_type": "code",
   "execution_count": 126,
   "metadata": {},
   "outputs": [],
   "source": [
    "model = Sequential()\n",
    "model.add(Embedding(eng_vocab_size, 256, input_length=eng_length, mask_zero=True))\n",
    "model.add(LSTM(256))\n",
    "model.add(RepeatVector(targ_length))\n",
    "model.add(LSTM(256, return_sequences=True))\n",
    "model.add(TimeDistributed(Dense(targ_vocab_size, activation='softmax')))"
   ]
  },
  {
   "cell_type": "code",
   "execution_count": 127,
   "metadata": {},
   "outputs": [],
   "source": [
    "model.compile(optimizer='adam', loss='categorical_crossentropy', metrics=['accuracy'])"
   ]
  },
  {
   "cell_type": "code",
   "execution_count": 128,
   "metadata": {},
   "outputs": [
    {
     "name": "stdout",
     "output_type": "stream",
     "text": [
      "_________________________________________________________________\n",
      "Layer (type)                 Output Shape              Param #   \n",
      "=================================================================\n",
      "embedding_1 (Embedding)      (None, 5, 256)            757248    \n",
      "_________________________________________________________________\n",
      "lstm_1 (LSTM)                (None, 256)               525312    \n",
      "_________________________________________________________________\n",
      "repeat_vector_1 (RepeatVecto (None, 9, 256)            0         \n",
      "_________________________________________________________________\n",
      "lstm_2 (LSTM)                (None, 9, 256)            525312    \n",
      "_________________________________________________________________\n",
      "time_distributed_1 (TimeDist (None, 9, 4650)           1195050   \n",
      "=================================================================\n",
      "Total params: 3,002,922\n",
      "Trainable params: 3,002,922\n",
      "Non-trainable params: 0\n",
      "_________________________________________________________________\n"
     ]
    }
   ],
   "source": [
    "model.summary()"
   ]
  },
  {
   "cell_type": "code",
   "execution_count": 129,
   "metadata": {},
   "outputs": [],
   "source": [
    "modelname = 'model_31_07.h5'"
   ]
  },
  {
   "cell_type": "code",
   "execution_count": null,
   "metadata": {},
   "outputs": [],
   "source": [
    "checkpoint = ModelCheckpoint(modelname, monitor='val_loss', verbose=1, save_best_only=True, mode='min')\n"
   ]
  },
  {
   "cell_type": "code",
   "execution_count": null,
   "metadata": {},
   "outputs": [],
   "source": [
    "filename = 'model1.h5'\n",
    "checkpoint = ModelCheckpoint(filename, monitor='val_loss', verbose=1, save_best_only=True, mode='min')\n",
    "model.fit(trainX, trainY, epochs=20, batch_size=64, validation_data=(testX, testY), callbacks=[checkpoint], verbose=2)\n"
   ]
  },
  {
   "cell_type": "code",
   "execution_count": null,
   "metadata": {},
   "outputs": [],
   "source": []
  },
  {
   "cell_type": "code",
   "execution_count": null,
   "metadata": {},
   "outputs": [],
   "source": []
  },
  {
   "cell_type": "code",
   "execution_count": null,
   "metadata": {},
   "outputs": [],
   "source": []
  },
  {
   "cell_type": "code",
   "execution_count": null,
   "metadata": {},
   "outputs": [],
   "source": []
  },
  {
   "cell_type": "code",
   "execution_count": null,
   "metadata": {},
   "outputs": [],
   "source": []
  },
  {
   "cell_type": "code",
   "execution_count": null,
   "metadata": {},
   "outputs": [],
   "source": []
  },
  {
   "cell_type": "code",
   "execution_count": null,
   "metadata": {},
   "outputs": [],
   "source": []
  },
  {
   "cell_type": "code",
   "execution_count": null,
   "metadata": {},
   "outputs": [],
   "source": []
  },
  {
   "cell_type": "code",
   "execution_count": null,
   "metadata": {},
   "outputs": [],
   "source": []
  },
  {
   "cell_type": "code",
   "execution_count": null,
   "metadata": {},
   "outputs": [],
   "source": []
  }
 ],
 "metadata": {
  "kernelspec": {
   "display_name": "Python 3",
   "language": "python",
   "name": "python3"
  },
  "language_info": {
   "codemirror_mode": {
    "name": "ipython",
    "version": 3
   },
   "file_extension": ".py",
   "mimetype": "text/x-python",
   "name": "python",
   "nbconvert_exporter": "python",
   "pygments_lexer": "ipython3",
   "version": "3.6.5"
  }
 },
 "nbformat": 4,
 "nbformat_minor": 2
}
