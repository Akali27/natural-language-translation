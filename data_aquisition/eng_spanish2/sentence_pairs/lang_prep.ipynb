{
 "cells": [
  {
   "cell_type": "markdown",
   "metadata": {},
   "source": [
    "## Get data from URL and save"
   ]
  },
  {
   "cell_type": "code",
   "execution_count": 1,
   "metadata": {},
   "outputs": [],
   "source": [
    "# download dataset\n",
    "def get_data(link):\n",
    "    \n",
    "    from zipfile import ZipFile\n",
    "    import requests\n",
    "    import os\n",
    "    \n",
    "    output = 'temp.zip'\n",
    "\n",
    "    response = requests.get(link, stream=True)\n",
    "    handle = open(output, \"wb\")\n",
    "    for chunk in response.iter_content(chunk_size=512):\n",
    "        if chunk:\n",
    "            handle.write(chunk)\n",
    "    handle.close()\n",
    "\n",
    "\n",
    "    with ZipFile(output,\"r\") as zip_file:\n",
    "        for name in zip_file.namelist():\n",
    "            if name != '_about.txt':\n",
    "                filename = name\n",
    "        zip_file.extractall(\"data\")\n",
    "    \n",
    "    os.remove('temp.zip')\n",
    "    os.remove('data/_about.txt')\n",
    "    return filename"
   ]
  },
  {
   "cell_type": "code",
   "execution_count": 2,
   "metadata": {},
   "outputs": [],
   "source": [
    "path = 'data/' + get_data('http://www.manythings.org/anki/spa-eng.zip')"
   ]
  },
  {
   "cell_type": "code",
   "execution_count": 3,
   "metadata": {},
   "outputs": [
    {
     "data": {
      "text/plain": [
       "'data/spa.txt'"
      ]
     },
     "execution_count": 3,
     "metadata": {},
     "output_type": "execute_result"
    }
   ],
   "source": [
    "path"
   ]
  },
  {
   "cell_type": "markdown",
   "metadata": {},
   "source": [
    "## Clean data"
   ]
  },
  {
   "cell_type": "code",
   "execution_count": 4,
   "metadata": {},
   "outputs": [],
   "source": [
    "def clean_lines(line):\n",
    "    \n",
    "    from unicodedata import normalize\n",
    "    import string\n",
    "    \n",
    "    remove_punct_map = dict.fromkeys(map(ord, string.punctuation)) # thank you Reed!\n",
    "    \n",
    "    line = normalize('NFD', line).encode('ascii', 'ignore')\n",
    "    line = line.decode('UTF-8')\n",
    "    line = line.split()\n",
    "    line = [word.lower() for word in line]\n",
    "    line = [word.translate(remove_punct_map) for word in line]\n",
    "    line = [word for word in line if word.isalpha()]\n",
    "    \n",
    "    return(line)"
   ]
  },
  {
   "cell_type": "code",
   "execution_count": 5,
   "metadata": {},
   "outputs": [],
   "source": [
    "def clean_data(filepath):\n",
    "    \n",
    "    import numpy as np\n",
    "    \n",
    "    import re\n",
    "    \n",
    "    file = open(filepath, mode='rt')\n",
    "    text = file.read()\n",
    "    file.close()\n",
    "    \n",
    "    lines = text.strip().split('\\n')\n",
    "    pairs = [line.split('\\t') for line in  lines]\n",
    "    \n",
    "    all_cleaned = []\n",
    "    \n",
    "\n",
    "    \n",
    "    for pair in pairs:\n",
    "        cleaned_pair = []\n",
    "        for sentence in pair:\n",
    "            clean_sentence = clean_lines(sentence)\n",
    "            cleaned_pair.append(' '.join(clean_sentence))\n",
    "            \n",
    "        all_cleaned.append(cleaned_pair)\n",
    "    \n",
    "    no_duplicates = []\n",
    "    previous_line = ''\n",
    "    \n",
    "    for line in all_cleaned:\n",
    "        if (line[0] != previous_line) and (' tom' not in line[0]) and ('tom ' not in line[0]):\n",
    "            no_duplicates.append(line)\n",
    "            previous_line = line[0] \n",
    "          \n",
    "        \n",
    "    return np.array(no_duplicates)"
   ]
  },
  {
   "cell_type": "code",
   "execution_count": 6,
   "metadata": {},
   "outputs": [],
   "source": [
    "clean_data = clean_data(path)"
   ]
  },
  {
   "cell_type": "code",
   "execution_count": 7,
   "metadata": {},
   "outputs": [
    {
     "data": {
      "text/plain": [
       "array([['i like chess', 'me gusta el ajedrez'],\n",
       "       ['i like fruit', 'me gusta la fruta'],\n",
       "       ['i like honey', 'me gusta la miel'],\n",
       "       ['i like opera', 'me gusta la opera'],\n",
       "       ['i like pizza', 'me gusta la pizza'],\n",
       "       ['i like sushi', 'me gusta el sushi'],\n",
       "       ['i like these', 'me gusta eso'],\n",
       "       ['i like women', 'me gustan las mujeres'],\n",
       "       ['i live alone', 'yo vivo solo'],\n",
       "       ['i love books', 'me encantan los libros']], dtype='<U275')"
      ]
     },
     "execution_count": 7,
     "metadata": {},
     "output_type": "execute_result"
    }
   ],
   "source": [
    "clean_data[1600:1610]"
   ]
  },
  {
   "cell_type": "code",
   "execution_count": 8,
   "metadata": {},
   "outputs": [
    {
     "data": {
      "text/plain": [
       "(83783, 2)"
      ]
     },
     "execution_count": 8,
     "metadata": {},
     "output_type": "execute_result"
    }
   ],
   "source": [
    "clean_data.shape"
   ]
  },
  {
   "cell_type": "markdown",
   "metadata": {},
   "source": [
    "## Split in test and train"
   ]
  },
  {
   "cell_type": "code",
   "execution_count": 9,
   "metadata": {},
   "outputs": [],
   "source": [
    "def split_data(dataset):\n",
    "    import numpy as np\n",
    "    from sklearn.externals import joblib\n",
    "    \n",
    "    lines_number = 10000\n",
    "    new_set = dataset[:lines_number, :]\n",
    "    \n",
    "    np.random.shuffle(new_set)\n",
    "    train, test = new_set[:9000], new_set[9000:]\n",
    "    \n",
    "    \n",
    "\n",
    "    joblib.dump(new_set, 'data/dataset.pkl')\n",
    "    joblib.dump(train, 'data/train.pkl')\n",
    "    joblib.dump(test, 'data/test.pkl')\n",
    "    \n",
    "    return new_set, train, test"
   ]
  },
  {
   "cell_type": "code",
   "execution_count": 10,
   "metadata": {},
   "outputs": [],
   "source": [
    "dataset, train, test = split_data(clean_data)"
   ]
  },
  {
   "cell_type": "code",
   "execution_count": 11,
   "metadata": {},
   "outputs": [
    {
     "data": {
      "text/plain": [
       "9000"
      ]
     },
     "execution_count": 11,
     "metadata": {},
     "output_type": "execute_result"
    }
   ],
   "source": [
    "len(train)"
   ]
  },
  {
   "cell_type": "markdown",
   "metadata": {},
   "source": [
    "## Tokenize data"
   ]
  },
  {
   "cell_type": "code",
   "execution_count": 12,
   "metadata": {},
   "outputs": [
    {
     "name": "stderr",
     "output_type": "stream",
     "text": [
      "/Users/sonik/anaconda3/envs/pythondata/lib/python3.6/site-packages/h5py/__init__.py:36: FutureWarning: Conversion of the second argument of issubdtype from `float` to `np.floating` is deprecated. In future, it will be treated as `np.float64 == np.dtype(float).type`.\n",
      "  from ._conv import register_converters as _register_converters\n",
      "Using TensorFlow backend.\n"
     ]
    }
   ],
   "source": [
    "from keras.preprocessing.text import Tokenizer"
   ]
  },
  {
   "cell_type": "code",
   "execution_count": 13,
   "metadata": {},
   "outputs": [
    {
     "name": "stdout",
     "output_type": "stream",
     "text": [
      "a number of unique words in english dataset - 2957\n",
      "max sentence size english dataset - 5\n",
      "a number of unique words in target dataset - 4649\n",
      "max sentence size target dataset - 9\n"
     ]
    }
   ],
   "source": [
    "eng_tokenizer = Tokenizer()\n",
    "eng_tokenizer.fit_on_texts(dataset[:,0])\n",
    "eng_length = max(len(line.split()) for line in dataset[:,0])\n",
    "eng_vocab_size = len(eng_tokenizer.word_counts) + 1\n",
    "targ_tokenizer = Tokenizer()\n",
    "targ_tokenizer.fit_on_texts(dataset[:,1])\n",
    "targ_length = max(len(line.split()) for line in dataset[:,1])\n",
    "targ_vocab_size = len(targ_tokenizer.word_counts) + 1\n",
    "print(f'a number of unique words in english dataset - {len(eng_tokenizer.word_counts)}')\n",
    "print(f'max sentence size english dataset - {eng_length}')\n",
    "print(f'a number of unique words in target dataset - {len(targ_tokenizer.word_counts)}')\n",
    "print(f'max sentence size target dataset - {targ_length}')"
   ]
  },
  {
   "cell_type": "markdown",
   "metadata": {},
   "source": [
    "### Encoding"
   ]
  },
  {
   "cell_type": "code",
   "execution_count": 14,
   "metadata": {},
   "outputs": [],
   "source": [
    "from keras.preprocessing.sequence import pad_sequences\n",
    "from keras.utils import to_categorical"
   ]
  },
  {
   "cell_type": "code",
   "execution_count": 15,
   "metadata": {},
   "outputs": [],
   "source": [
    "trainX = eng_tokenizer.texts_to_sequences(train[:,0])"
   ]
  },
  {
   "cell_type": "code",
   "execution_count": 16,
   "metadata": {},
   "outputs": [
    {
     "data": {
      "text/plain": [
       "[[2, 14, 8, 69],\n",
       " [74, 176],\n",
       " [1, 41, 118, 126],\n",
       " [48, 23, 70],\n",
       " [4, 80, 228, 54, 766],\n",
       " [1, 1612, 589],\n",
       " [672, 29, 53],\n",
       " [285, 1131],\n",
       " [76, 9, 402, 16],\n",
       " [89, 1613, 4, 673]]"
      ]
     },
     "execution_count": 16,
     "metadata": {},
     "output_type": "execute_result"
    }
   ],
   "source": [
    "trainX[:10]"
   ]
  },
  {
   "cell_type": "code",
   "execution_count": 17,
   "metadata": {},
   "outputs": [],
   "source": [
    "trainX = pad_sequences(trainX, maxlen=eng_length, padding='post')"
   ]
  },
  {
   "cell_type": "code",
   "execution_count": 18,
   "metadata": {},
   "outputs": [
    {
     "data": {
      "text/plain": [
       "array([[   2,   14,    8,   69,    0],\n",
       "       [  74,  176,    0,    0,    0],\n",
       "       [   1,   41,  118,  126,    0],\n",
       "       ...,\n",
       "       [   6, 1418,    0,    0,    0],\n",
       "       [  74,  301,    0,    0,    0],\n",
       "       [  18,  660,   30,    0,    0]], dtype=int32)"
      ]
     },
     "execution_count": 18,
     "metadata": {},
     "output_type": "execute_result"
    }
   ],
   "source": [
    "trainX"
   ]
  },
  {
   "cell_type": "code",
   "execution_count": 19,
   "metadata": {},
   "outputs": [],
   "source": [
    "trainY = targ_tokenizer.texts_to_sequences(train[:,1])\n",
    "trainY = pad_sequences(trainY, maxlen=targ_length, padding='post')"
   ]
  },
  {
   "cell_type": "code",
   "execution_count": 20,
   "metadata": {},
   "outputs": [
    {
     "data": {
      "text/plain": [
       "array([[  24,   33,  845,    0,    0,    0,    0,    0,    0],\n",
       "       [  58,    6,  207,    0,    0,    0,    0,    0,    0],\n",
       "       [  44,   52,  102,    0,    0,    0,    0,    0,    0],\n",
       "       [1424,    8,   40,    0,    0,    0,    0,    0,    0],\n",
       "       [   5,   65,   34, 1046,   21,    9,  846,    0,    0]],\n",
       "      dtype=int32)"
      ]
     },
     "execution_count": 20,
     "metadata": {},
     "output_type": "execute_result"
    }
   ],
   "source": [
    "trainY[:5]"
   ]
  },
  {
   "cell_type": "code",
   "execution_count": 21,
   "metadata": {},
   "outputs": [],
   "source": [
    "trainY = to_categorical(trainY, num_classes=targ_vocab_size)"
   ]
  },
  {
   "cell_type": "code",
   "execution_count": 22,
   "metadata": {},
   "outputs": [
    {
     "data": {
      "text/plain": [
       "array([[0., 0., 0., ..., 0., 0., 0.],\n",
       "       [0., 0., 0., ..., 0., 0., 0.],\n",
       "       [0., 0., 0., ..., 0., 0., 0.],\n",
       "       ...,\n",
       "       [1., 0., 0., ..., 0., 0., 0.],\n",
       "       [1., 0., 0., ..., 0., 0., 0.],\n",
       "       [1., 0., 0., ..., 0., 0., 0.]], dtype=float32)"
      ]
     },
     "execution_count": 22,
     "metadata": {},
     "output_type": "execute_result"
    }
   ],
   "source": [
    "trainY[6]"
   ]
  },
  {
   "cell_type": "code",
   "execution_count": 23,
   "metadata": {},
   "outputs": [
    {
     "data": {
      "text/plain": [
       "array([[   1,   94,    2,  753,    0],\n",
       "       [   2,   14,    4,  338,    0],\n",
       "       [  74,  438,    0,    0,    0],\n",
       "       ...,\n",
       "       [  18, 2956,   30,    0,    0],\n",
       "       [  14,    2,  161,  927,    0],\n",
       "       [   7,  163, 2957,    0,    0]], dtype=int32)"
      ]
     },
     "execution_count": 23,
     "metadata": {},
     "output_type": "execute_result"
    }
   ],
   "source": [
    "testX = eng_tokenizer.texts_to_sequences(test[:,0])\n",
    "testX = pad_sequences(testX, maxlen=eng_length, padding='post')\n",
    "testX"
   ]
  },
  {
   "cell_type": "code",
   "execution_count": 24,
   "metadata": {},
   "outputs": [
    {
     "data": {
      "text/plain": [
       "array([[0., 0., 0., ..., 0., 0., 0.],\n",
       "       [0., 0., 0., ..., 0., 0., 0.],\n",
       "       [1., 0., 0., ..., 0., 0., 0.],\n",
       "       ...,\n",
       "       [1., 0., 0., ..., 0., 0., 0.],\n",
       "       [1., 0., 0., ..., 0., 0., 0.],\n",
       "       [1., 0., 0., ..., 0., 0., 0.]], dtype=float32)"
      ]
     },
     "execution_count": 24,
     "metadata": {},
     "output_type": "execute_result"
    }
   ],
   "source": [
    "testY = targ_tokenizer.texts_to_sequences(test[:,1])\n",
    "testY = pad_sequences(testY, maxlen=targ_length, padding='post')\n",
    "testY = to_categorical(testY, num_classes=targ_vocab_size)\n",
    "testY[6]"
   ]
  },
  {
   "cell_type": "markdown",
   "metadata": {},
   "source": [
    "## Define model"
   ]
  },
  {
   "cell_type": "code",
   "execution_count": 25,
   "metadata": {},
   "outputs": [],
   "source": [
    "from keras.models import Sequential\n",
    "from keras.layers import LSTM\n",
    "from keras.layers import Dense\n",
    "from keras.layers import Embedding\n",
    "from keras.layers import RepeatVector\n",
    "from keras.layers import TimeDistributed\n",
    "from keras.callbacks import ModelCheckpoint"
   ]
  },
  {
   "cell_type": "code",
   "execution_count": 26,
   "metadata": {},
   "outputs": [],
   "source": [
    "model = Sequential()\n",
    "model.add(Embedding(eng_vocab_size, 256, input_length=eng_length, mask_zero=True))\n",
    "model.add(LSTM(256))\n",
    "model.add(RepeatVector(targ_length))\n",
    "model.add(LSTM(256, return_sequences=True))\n",
    "model.add(TimeDistributed(Dense(targ_vocab_size, activation='softmax')))"
   ]
  },
  {
   "cell_type": "code",
   "execution_count": 27,
   "metadata": {},
   "outputs": [],
   "source": [
    "model.compile(optimizer='adam', loss='categorical_crossentropy', metrics=['accuracy'])"
   ]
  },
  {
   "cell_type": "code",
   "execution_count": 28,
   "metadata": {},
   "outputs": [
    {
     "name": "stdout",
     "output_type": "stream",
     "text": [
      "_________________________________________________________________\n",
      "Layer (type)                 Output Shape              Param #   \n",
      "=================================================================\n",
      "embedding_1 (Embedding)      (None, 5, 256)            757248    \n",
      "_________________________________________________________________\n",
      "lstm_1 (LSTM)                (None, 256)               525312    \n",
      "_________________________________________________________________\n",
      "repeat_vector_1 (RepeatVecto (None, 9, 256)            0         \n",
      "_________________________________________________________________\n",
      "lstm_2 (LSTM)                (None, 9, 256)            525312    \n",
      "_________________________________________________________________\n",
      "time_distributed_1 (TimeDist (None, 9, 4650)           1195050   \n",
      "=================================================================\n",
      "Total params: 3,002,922\n",
      "Trainable params: 3,002,922\n",
      "Non-trainable params: 0\n",
      "_________________________________________________________________\n"
     ]
    }
   ],
   "source": [
    "model.summary()"
   ]
  },
  {
   "cell_type": "code",
   "execution_count": 29,
   "metadata": {},
   "outputs": [],
   "source": [
    "model_name = 'model_31_07.h5'"
   ]
  },
  {
   "cell_type": "code",
   "execution_count": 30,
   "metadata": {},
   "outputs": [],
   "source": [
    "checkpoint = ModelCheckpoint(model_name, monitor='val_loss', verbose=1, save_best_only=True, mode='min')\n"
   ]
  },
  {
   "cell_type": "code",
   "execution_count": null,
   "metadata": {},
   "outputs": [
    {
     "name": "stdout",
     "output_type": "stream",
     "text": [
      "Train on 9000 samples, validate on 1000 samples\n",
      "Epoch 1/30\n",
      " - 47s - loss: 3.3508 - acc: 0.6528 - val_loss: 2.5709 - val_acc: 0.6576\n",
      "\n",
      "Epoch 00001: val_loss improved from inf to 2.57095, saving model to model_31_07.h5\n",
      "Epoch 2/30\n",
      " - 46s - loss: 2.4067 - acc: 0.6688 - val_loss: 2.4617 - val_acc: 0.6669\n",
      "\n",
      "Epoch 00002: val_loss improved from 2.57095 to 2.46174, saving model to model_31_07.h5\n",
      "Epoch 3/30\n",
      " - 46s - loss: 2.3065 - acc: 0.6719 - val_loss: 2.4165 - val_acc: 0.6702\n",
      "\n",
      "Epoch 00003: val_loss improved from 2.46174 to 2.41653, saving model to model_31_07.h5\n",
      "Epoch 4/30\n",
      " - 47s - loss: 2.2511 - acc: 0.6727 - val_loss: 2.3971 - val_acc: 0.6701\n",
      "\n",
      "Epoch 00004: val_loss improved from 2.41653 to 2.39706, saving model to model_31_07.h5\n",
      "Epoch 5/30\n",
      " - 48s - loss: 2.2017 - acc: 0.6750 - val_loss: 2.3693 - val_acc: 0.6728\n",
      "\n",
      "Epoch 00005: val_loss improved from 2.39706 to 2.36930, saving model to model_31_07.h5\n",
      "Epoch 6/30\n",
      " - 48s - loss: 2.1567 - acc: 0.6781 - val_loss: 2.3473 - val_acc: 0.6769\n",
      "\n",
      "Epoch 00006: val_loss improved from 2.36930 to 2.34727, saving model to model_31_07.h5\n",
      "Epoch 7/30\n",
      " - 50s - loss: 2.1000 - acc: 0.6826 - val_loss: 2.3295 - val_acc: 0.6804\n",
      "\n",
      "Epoch 00007: val_loss improved from 2.34727 to 2.32954, saving model to model_31_07.h5\n",
      "Epoch 8/30\n",
      " - 49s - loss: 2.0478 - acc: 0.6859 - val_loss: 2.3124 - val_acc: 0.6834\n",
      "\n",
      "Epoch 00008: val_loss improved from 2.32954 to 2.31243, saving model to model_31_07.h5\n",
      "Epoch 9/30\n",
      " - 52s - loss: 1.9964 - acc: 0.6898 - val_loss: 2.2945 - val_acc: 0.6852\n",
      "\n",
      "Epoch 00009: val_loss improved from 2.31243 to 2.29448, saving model to model_31_07.h5\n",
      "Epoch 10/30\n",
      " - 57s - loss: 1.9430 - acc: 0.6932 - val_loss: 2.2634 - val_acc: 0.6890\n",
      "\n",
      "Epoch 00010: val_loss improved from 2.29448 to 2.26336, saving model to model_31_07.h5\n",
      "Epoch 11/30\n",
      " - 52s - loss: 1.8850 - acc: 0.6978 - val_loss: 2.2403 - val_acc: 0.6911\n",
      "\n",
      "Epoch 00011: val_loss improved from 2.26336 to 2.24025, saving model to model_31_07.h5\n",
      "Epoch 12/30\n",
      " - 52s - loss: 1.8247 - acc: 0.7015 - val_loss: 2.2119 - val_acc: 0.6954\n",
      "\n",
      "Epoch 00012: val_loss improved from 2.24025 to 2.21190, saving model to model_31_07.h5\n",
      "Epoch 13/30\n",
      " - 49s - loss: 1.7604 - acc: 0.7066 - val_loss: 2.1725 - val_acc: 0.6980\n",
      "\n",
      "Epoch 00013: val_loss improved from 2.21190 to 2.17249, saving model to model_31_07.h5\n",
      "Epoch 14/30\n",
      " - 49s - loss: 1.6917 - acc: 0.7127 - val_loss: 2.1291 - val_acc: 0.7030\n",
      "\n",
      "Epoch 00014: val_loss improved from 2.17249 to 2.12906, saving model to model_31_07.h5\n",
      "Epoch 15/30\n",
      " - 45s - loss: 1.6197 - acc: 0.7209 - val_loss: 2.0950 - val_acc: 0.7089\n",
      "\n",
      "Epoch 00015: val_loss improved from 2.12906 to 2.09504, saving model to model_31_07.h5\n",
      "Epoch 16/30\n",
      " - 45s - loss: 1.5468 - acc: 0.7292 - val_loss: 2.0712 - val_acc: 0.7107\n",
      "\n",
      "Epoch 00016: val_loss improved from 2.09504 to 2.07124, saving model to model_31_07.h5\n",
      "Epoch 17/30\n",
      " - 45s - loss: 1.4745 - acc: 0.7359 - val_loss: 2.0254 - val_acc: 0.7198\n",
      "\n",
      "Epoch 00017: val_loss improved from 2.07124 to 2.02535, saving model to model_31_07.h5\n",
      "Epoch 18/30\n",
      " - 51s - loss: 1.3996 - acc: 0.7446 - val_loss: 2.0023 - val_acc: 0.7242\n",
      "\n",
      "Epoch 00018: val_loss improved from 2.02535 to 2.00233, saving model to model_31_07.h5\n",
      "Epoch 19/30\n",
      " - 51s - loss: 1.3295 - acc: 0.7510 - val_loss: 1.9699 - val_acc: 0.7261\n",
      "\n",
      "Epoch 00019: val_loss improved from 2.00233 to 1.96992, saving model to model_31_07.h5\n",
      "Epoch 20/30\n",
      " - 46s - loss: 1.2596 - acc: 0.7571 - val_loss: 1.9560 - val_acc: 0.7272\n",
      "\n",
      "Epoch 00020: val_loss improved from 1.96992 to 1.95604, saving model to model_31_07.h5\n",
      "Epoch 21/30\n",
      " - 44s - loss: 1.1921 - acc: 0.7638 - val_loss: 1.9235 - val_acc: 0.7302\n",
      "\n",
      "Epoch 00021: val_loss improved from 1.95604 to 1.92354, saving model to model_31_07.h5\n",
      "Epoch 22/30\n",
      " - 45s - loss: 1.1256 - acc: 0.7714 - val_loss: 1.9066 - val_acc: 0.7331\n",
      "\n",
      "Epoch 00022: val_loss improved from 1.92354 to 1.90664, saving model to model_31_07.h5\n",
      "Epoch 23/30\n",
      " - 48s - loss: 1.0603 - acc: 0.7792 - val_loss: 1.8917 - val_acc: 0.7374\n",
      "\n",
      "Epoch 00023: val_loss improved from 1.90664 to 1.89165, saving model to model_31_07.h5\n",
      "Epoch 24/30\n",
      " - 44s - loss: 1.0038 - acc: 0.7871 - val_loss: 1.8815 - val_acc: 0.7391\n",
      "\n",
      "Epoch 00024: val_loss improved from 1.89165 to 1.88154, saving model to model_31_07.h5\n",
      "Epoch 25/30\n",
      " - 42s - loss: 0.9383 - acc: 0.7977 - val_loss: 1.8685 - val_acc: 0.7397\n",
      "\n",
      "Epoch 00025: val_loss improved from 1.88154 to 1.86852, saving model to model_31_07.h5\n",
      "Epoch 26/30\n",
      " - 38s - loss: 0.8794 - acc: 0.8072 - val_loss: 1.8612 - val_acc: 0.7440\n",
      "\n",
      "Epoch 00026: val_loss improved from 1.86852 to 1.86116, saving model to model_31_07.h5\n",
      "Epoch 27/30\n",
      " - 41s - loss: 0.8195 - acc: 0.8186 - val_loss: 1.8559 - val_acc: 0.7439\n",
      "\n",
      "Epoch 00027: val_loss improved from 1.86116 to 1.85586, saving model to model_31_07.h5\n",
      "Epoch 28/30\n",
      " - 37s - loss: 0.7661 - acc: 0.8302 - val_loss: 1.8469 - val_acc: 0.7452\n",
      "\n",
      "Epoch 00028: val_loss improved from 1.85586 to 1.84693, saving model to model_31_07.h5\n",
      "Epoch 29/30\n",
      " - 37s - loss: 0.7127 - acc: 0.8408 - val_loss: 1.8479 - val_acc: 0.7460\n",
      "\n",
      "Epoch 00029: val_loss did not improve from 1.84693\n",
      "Epoch 30/30\n"
     ]
    }
   ],
   "source": [
    "model.fit(trainX, trainY, epochs=30, batch_size=64, validation_data=(testX, testY), callbacks=[checkpoint], verbose=2)\n"
   ]
  },
  {
   "cell_type": "code",
   "execution_count": null,
   "metadata": {},
   "outputs": [],
   "source": []
  },
  {
   "cell_type": "code",
   "execution_count": null,
   "metadata": {},
   "outputs": [],
   "source": []
  },
  {
   "cell_type": "code",
   "execution_count": null,
   "metadata": {},
   "outputs": [],
   "source": []
  },
  {
   "cell_type": "code",
   "execution_count": null,
   "metadata": {},
   "outputs": [],
   "source": []
  },
  {
   "cell_type": "code",
   "execution_count": null,
   "metadata": {},
   "outputs": [],
   "source": []
  },
  {
   "cell_type": "code",
   "execution_count": null,
   "metadata": {},
   "outputs": [],
   "source": []
  },
  {
   "cell_type": "code",
   "execution_count": null,
   "metadata": {},
   "outputs": [],
   "source": []
  },
  {
   "cell_type": "code",
   "execution_count": null,
   "metadata": {},
   "outputs": [],
   "source": []
  },
  {
   "cell_type": "code",
   "execution_count": null,
   "metadata": {},
   "outputs": [],
   "source": []
  },
  {
   "cell_type": "code",
   "execution_count": null,
   "metadata": {},
   "outputs": [],
   "source": []
  }
 ],
 "metadata": {
  "kernelspec": {
   "display_name": "Python 3",
   "language": "python",
   "name": "python3"
  },
  "language_info": {
   "codemirror_mode": {
    "name": "ipython",
    "version": 3
   },
   "file_extension": ".py",
   "mimetype": "text/x-python",
   "name": "python",
   "nbconvert_exporter": "python",
   "pygments_lexer": "ipython3",
   "version": "3.6.5"
  }
 },
 "nbformat": 4,
 "nbformat_minor": 2
}
