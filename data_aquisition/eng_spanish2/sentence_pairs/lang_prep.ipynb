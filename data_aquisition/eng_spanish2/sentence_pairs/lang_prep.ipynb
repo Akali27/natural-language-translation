{
 "cells": [
  {
   "cell_type": "markdown",
   "metadata": {},
   "source": [
    "## Get data from URL and save"
   ]
  },
  {
   "cell_type": "code",
   "execution_count": 1,
   "metadata": {},
   "outputs": [],
   "source": [
    "# download dataset\n",
    "def get_data(link):\n",
    "    \n",
    "    from zipfile import ZipFile\n",
    "    import requests\n",
    "    import os\n",
    "    \n",
    "    output = 'temp.zip'\n",
    "\n",
    "    response = requests.get(link, stream=True)\n",
    "    handle = open(output, \"wb\")\n",
    "    for chunk in response.iter_content(chunk_size=512):\n",
    "        if chunk:\n",
    "            handle.write(chunk)\n",
    "    handle.close()\n",
    "\n",
    "\n",
    "    with ZipFile(output,\"r\") as zip_file:\n",
    "        for name in zip_file.namelist():\n",
    "            if name != '_about.txt':\n",
    "                filename = name\n",
    "        zip_file.extractall(\"data\")\n",
    "    \n",
    "    os.remove('temp.zip')\n",
    "    os.remove('data/_about.txt')\n",
    "    return filename"
   ]
  },
  {
   "cell_type": "code",
   "execution_count": 2,
   "metadata": {},
   "outputs": [],
   "source": [
    "path = 'data/' + get_data('http://www.manythings.org/anki/spa-eng.zip')"
   ]
  },
  {
   "cell_type": "code",
   "execution_count": 3,
   "metadata": {},
   "outputs": [
    {
     "data": {
      "text/plain": [
       "'data/spa.txt'"
      ]
     },
     "execution_count": 3,
     "metadata": {},
     "output_type": "execute_result"
    }
   ],
   "source": [
    "path"
   ]
  },
  {
   "cell_type": "markdown",
   "metadata": {},
   "source": [
    "## Clean data"
   ]
  },
  {
   "cell_type": "code",
   "execution_count": 4,
   "metadata": {},
   "outputs": [],
   "source": [
    "def clean_lines(line):\n",
    "    \n",
    "    from unicodedata import normalize\n",
    "    import string\n",
    "    \n",
    "    remove_punct_map = dict.fromkeys(map(ord, string.punctuation)) # thank you Reed!\n",
    "    \n",
    "    line = normalize('NFD', line).encode('ascii', 'ignore')\n",
    "    line = line.decode('UTF-8')\n",
    "    line = line.split()\n",
    "    line = [word.lower() for word in line]\n",
    "#     line = [word.translate(remove_punct_map) for word in line]\n",
    "    line = [word for word in line if word.isalpha()]\n",
    "    \n",
    "    return(line)"
   ]
  },
  {
   "cell_type": "code",
   "execution_count": 5,
   "metadata": {},
   "outputs": [],
   "source": [
    "def clean_data(filepath):\n",
    "    \n",
    "    import numpy as np\n",
    "    \n",
    "    import re\n",
    "    \n",
    "    file = open(filepath, mode='rt')\n",
    "    text = file.read()\n",
    "    file.close()\n",
    "    \n",
    "    lines = text.strip().split('\\n')\n",
    "    pairs = [line.split('\\t') for line in  lines]\n",
    "    \n",
    "    all_cleaned = []\n",
    "    \n",
    "\n",
    "    \n",
    "    for pair in pairs:\n",
    "        cleaned_pair = []\n",
    "        for sentence in pair:\n",
    "            clean_sentence = clean_lines(sentence)\n",
    "            cleaned_pair.append(' '.join(clean_sentence))\n",
    "            \n",
    "        all_cleaned.append(cleaned_pair)\n",
    "    \n",
    "    no_duplicates = []\n",
    "    previous_eng = ''\n",
    "    previous_targ = ''\n",
    "    \n",
    "    for line in all_cleaned:\n",
    "        if (line[0] != previous_eng) and (line[1] != previous_targ) and (len(line[1]) != 1) and (len(line[0]) != 1) and (line[0] != '') and (line[1] != '') and (' tom' not in line[0]) and ('tom ' not in line[0]) and (' tom ' not in line[0]):\n",
    "            no_duplicates.append(line)\n",
    "            previous_eng = line[0]\n",
    "            previous_targ = line[1]\n",
    "          \n",
    "        \n",
    "    return np.array(no_duplicates)"
   ]
  },
  {
   "cell_type": "code",
   "execution_count": 6,
   "metadata": {},
   "outputs": [],
   "source": [
    "clean_data = clean_data(path)"
   ]
  },
  {
   "cell_type": "code",
   "execution_count": 7,
   "metadata": {},
   "outputs": [
    {
     "data": {
      "text/plain": [
       "array([['go', 've ahora'],\n",
       "       ['got', 'lo'],\n",
       "       ['he', 'el'],\n",
       "       ['hop', 'metete'],\n",
       "       ['no', 'no puede'],\n",
       "       ['we', 'lo'],\n",
       "       ['why', 'por que'],\n",
       "       ['ask', 'preguntale a'],\n",
       "       ['be', 'mantente en'],\n",
       "       ['get', 'agarra a']], dtype='<U249')"
      ]
     },
     "execution_count": 7,
     "metadata": {},
     "output_type": "execute_result"
    }
   ],
   "source": [
    "clean_data[0:10]"
   ]
  },
  {
   "cell_type": "code",
   "execution_count": 8,
   "metadata": {},
   "outputs": [
    {
     "data": {
      "text/plain": [
       "(80158, 2)"
      ]
     },
     "execution_count": 8,
     "metadata": {},
     "output_type": "execute_result"
    }
   ],
   "source": [
    "clean_data.shape"
   ]
  },
  {
   "cell_type": "markdown",
   "metadata": {},
   "source": [
    "## Split in test and train"
   ]
  },
  {
   "cell_type": "code",
   "execution_count": 9,
   "metadata": {},
   "outputs": [],
   "source": [
    "def split_data(dataset):\n",
    "    import numpy as np\n",
    "    from sklearn.externals import joblib\n",
    "    \n",
    "    lines_number = 10000\n",
    "    new_set = dataset[:lines_number, :]\n",
    "    \n",
    "    np.random.shuffle(new_set)\n",
    "    train, test = new_set[:9000], new_set[9000:]\n",
    "    \n",
    "    \n",
    "\n",
    "    joblib.dump(new_set, 'data/dataset.pkl')\n",
    "    joblib.dump(train, 'data/train.pkl')\n",
    "    joblib.dump(test, 'data/test.pkl')\n",
    "    \n",
    "    return new_set, train, test"
   ]
  },
  {
   "cell_type": "code",
   "execution_count": 10,
   "metadata": {},
   "outputs": [],
   "source": [
    "dataset, train, test = split_data(clean_data)"
   ]
  },
  {
   "cell_type": "code",
   "execution_count": 11,
   "metadata": {},
   "outputs": [
    {
     "data": {
      "text/plain": [
       "9000"
      ]
     },
     "execution_count": 11,
     "metadata": {},
     "output_type": "execute_result"
    }
   ],
   "source": [
    "len(train)"
   ]
  },
  {
   "cell_type": "code",
   "execution_count": 12,
   "metadata": {},
   "outputs": [
    {
     "data": {
      "text/plain": [
       "array([['i know all about', 'lo se todo sobre el'],\n",
       "       ['boston is', 'boston es'],\n",
       "       ['somebody is', 'alguien esta'],\n",
       "       ['who was', 'quien era'],\n",
       "       ['i cannot pray', 'no puedo rezar']], dtype='<U249')"
      ]
     },
     "execution_count": 12,
     "metadata": {},
     "output_type": "execute_result"
    }
   ],
   "source": [
    "train[0:5]"
   ]
  },
  {
   "cell_type": "markdown",
   "metadata": {},
   "source": [
    "## Tokenize data"
   ]
  },
  {
   "cell_type": "code",
   "execution_count": 13,
   "metadata": {},
   "outputs": [
    {
     "name": "stderr",
     "output_type": "stream",
     "text": [
      "/Users/sonik/anaconda3/envs/pythondata/lib/python3.6/site-packages/h5py/__init__.py:36: FutureWarning: Conversion of the second argument of issubdtype from `float` to `np.floating` is deprecated. In future, it will be treated as `np.float64 == np.dtype(float).type`.\n",
      "  from ._conv import register_converters as _register_converters\n",
      "Using TensorFlow backend.\n"
     ]
    }
   ],
   "source": [
    "from keras.preprocessing.text import Tokenizer"
   ]
  },
  {
   "cell_type": "code",
   "execution_count": 14,
   "metadata": {},
   "outputs": [
    {
     "name": "stdout",
     "output_type": "stream",
     "text": [
      "a number of unique words in english dataset - 1740\n",
      "max sentence size english dataset - 6\n",
      "a number of unique words in target dataset - 2712\n",
      "max sentence size target dataset - 10\n"
     ]
    }
   ],
   "source": [
    "eng_tokenizer = Tokenizer()\n",
    "eng_tokenizer.fit_on_texts(dataset[:,0])\n",
    "eng_length = max(len(line.split()) for line in dataset[:,0])\n",
    "eng_vocab_size = len(eng_tokenizer.word_counts) + 1\n",
    "targ_tokenizer = Tokenizer()\n",
    "targ_tokenizer.fit_on_texts(dataset[:,1])\n",
    "targ_length = max(len(line.split()) for line in dataset[:,1])\n",
    "targ_vocab_size = len(targ_tokenizer.word_counts) + 1\n",
    "print(f'a number of unique words in english dataset - {len(eng_tokenizer.word_counts)}')\n",
    "print(f'max sentence size english dataset - {eng_length}')\n",
    "print(f'a number of unique words in target dataset - {len(targ_tokenizer.word_counts)}')\n",
    "print(f'max sentence size target dataset - {targ_length}')"
   ]
  },
  {
   "cell_type": "markdown",
   "metadata": {},
   "source": [
    "### Encoding"
   ]
  },
  {
   "cell_type": "code",
   "execution_count": 15,
   "metadata": {},
   "outputs": [],
   "source": [
    "from keras.preprocessing.sequence import pad_sequences\n",
    "from keras.utils import to_categorical"
   ]
  },
  {
   "cell_type": "code",
   "execution_count": 16,
   "metadata": {},
   "outputs": [],
   "source": [
    "trainX = eng_tokenizer.texts_to_sequences(train[:,0])"
   ]
  },
  {
   "cell_type": "code",
   "execution_count": 17,
   "metadata": {},
   "outputs": [
    {
     "data": {
      "text/plain": [
       "[[1, 29, 43, 90],\n",
       " [271, 2],\n",
       " [292, 2],\n",
       " [33, 12],\n",
       " [1, 228, 541],\n",
       " [34, 15, 18],\n",
       " [5, 2, 319, 3],\n",
       " [2, 6, 542],\n",
       " [127],\n",
       " [10, 248, 3]]"
      ]
     },
     "execution_count": 17,
     "metadata": {},
     "output_type": "execute_result"
    }
   ],
   "source": [
    "trainX[:10]"
   ]
  },
  {
   "cell_type": "code",
   "execution_count": 18,
   "metadata": {},
   "outputs": [],
   "source": [
    "trainX = pad_sequences(trainX, maxlen=eng_length, padding='post')"
   ]
  },
  {
   "cell_type": "code",
   "execution_count": 19,
   "metadata": {},
   "outputs": [
    {
     "data": {
      "text/plain": [
       "array([[  1,  29,  43,  90,   0,   0],\n",
       "       [271,   2,   0,   0,   0,   0],\n",
       "       [292,   2,   0,   0,   0,   0],\n",
       "       ...,\n",
       "       [ 24,  59, 177,   0,   0,   0],\n",
       "       [  1, 154,   0,   0,   0,   0],\n",
       "       [ 51,   0,   0,   0,   0,   0]], dtype=int32)"
      ]
     },
     "execution_count": 19,
     "metadata": {},
     "output_type": "execute_result"
    }
   ],
   "source": [
    "trainX"
   ]
  },
  {
   "cell_type": "code",
   "execution_count": 20,
   "metadata": {},
   "outputs": [],
   "source": [
    "trainY = targ_tokenizer.texts_to_sequences(train[:,1])\n",
    "trainY = pad_sequences(trainY, maxlen=targ_length, padding='post')"
   ]
  },
  {
   "cell_type": "code",
   "execution_count": 21,
   "metadata": {},
   "outputs": [
    {
     "data": {
      "text/plain": [
       "array([[  10,   12,   63,  256,    1,    0,    0,    0,    0,    0],\n",
       "       [ 426,    2,    0,    0,    0,    0,    0,    0,    0,    0],\n",
       "       [ 133,   11,    0,    0,    0,    0,    0,    0,    0,    0],\n",
       "       [  27,   46,    0,    0,    0,    0,    0,    0,    0,    0],\n",
       "       [   3,   21, 1249,    0,    0,    0,    0,    0,    0,    0]],\n",
       "      dtype=int32)"
      ]
     },
     "execution_count": 21,
     "metadata": {},
     "output_type": "execute_result"
    }
   ],
   "source": [
    "trainY[:5]"
   ]
  },
  {
   "cell_type": "code",
   "execution_count": 22,
   "metadata": {},
   "outputs": [],
   "source": [
    "trainY = to_categorical(trainY, num_classes=targ_vocab_size)"
   ]
  },
  {
   "cell_type": "code",
   "execution_count": 23,
   "metadata": {},
   "outputs": [
    {
     "data": {
      "text/plain": [
       "array([[0., 1., 0., ..., 0., 0., 0.],\n",
       "       [0., 0., 0., ..., 0., 0., 0.],\n",
       "       [0., 0., 0., ..., 0., 0., 0.],\n",
       "       ...,\n",
       "       [1., 0., 0., ..., 0., 0., 0.],\n",
       "       [1., 0., 0., ..., 0., 0., 0.],\n",
       "       [1., 0., 0., ..., 0., 0., 0.]], dtype=float32)"
      ]
     },
     "execution_count": 23,
     "metadata": {},
     "output_type": "execute_result"
    }
   ],
   "source": [
    "trainY[6]"
   ]
  },
  {
   "cell_type": "code",
   "execution_count": 24,
   "metadata": {},
   "outputs": [
    {
     "data": {
      "text/plain": [
       "array([[  14,    0,    0,    0,    0,    0],\n",
       "       [ 226,    0,    0,    0,    0,    0],\n",
       "       [   6,    0,    0,    0,    0,    0],\n",
       "       ...,\n",
       "       [   1,   25,  304,    0,    0,    0],\n",
       "       [   1,   12, 1740,   20,    0,    0],\n",
       "       [  23,  305,    0,    0,    0,    0]], dtype=int32)"
      ]
     },
     "execution_count": 24,
     "metadata": {},
     "output_type": "execute_result"
    }
   ],
   "source": [
    "testX = eng_tokenizer.texts_to_sequences(test[:,0])\n",
    "testX = pad_sequences(testX, maxlen=eng_length, padding='post')\n",
    "testX"
   ]
  },
  {
   "cell_type": "code",
   "execution_count": 25,
   "metadata": {},
   "outputs": [
    {
     "data": {
      "text/plain": [
       "array([[0., 0., 0., ..., 0., 0., 0.],\n",
       "       [0., 0., 0., ..., 0., 0., 0.],\n",
       "       [0., 1., 0., ..., 0., 0., 0.],\n",
       "       ...,\n",
       "       [1., 0., 0., ..., 0., 0., 0.],\n",
       "       [1., 0., 0., ..., 0., 0., 0.],\n",
       "       [1., 0., 0., ..., 0., 0., 0.]], dtype=float32)"
      ]
     },
     "execution_count": 25,
     "metadata": {},
     "output_type": "execute_result"
    }
   ],
   "source": [
    "testY = targ_tokenizer.texts_to_sequences(test[:,1])\n",
    "testY = pad_sequences(testY, maxlen=targ_length, padding='post')\n",
    "testY = to_categorical(testY, num_classes=targ_vocab_size)\n",
    "testY[6]"
   ]
  },
  {
   "cell_type": "markdown",
   "metadata": {},
   "source": [
    "## Define model"
   ]
  },
  {
   "cell_type": "code",
   "execution_count": 26,
   "metadata": {},
   "outputs": [],
   "source": [
    "from keras.models import Sequential\n",
    "from keras.layers import LSTM\n",
    "from keras.layers import Dense\n",
    "from keras.layers import Embedding\n",
    "from keras.layers import RepeatVector\n",
    "from keras.layers import TimeDistributed\n",
    "from keras.callbacks import ModelCheckpoint"
   ]
  },
  {
   "cell_type": "code",
   "execution_count": 27,
   "metadata": {},
   "outputs": [],
   "source": [
    "model = Sequential()\n",
    "model.add(Embedding(eng_vocab_size, 256, input_length=eng_length, mask_zero=True))\n",
    "model.add(LSTM(256))\n",
    "model.add(RepeatVector(targ_length))\n",
    "model.add(LSTM(256, return_sequences=True))\n",
    "model.add(TimeDistributed(Dense(targ_vocab_size, activation='softmax')))"
   ]
  },
  {
   "cell_type": "code",
   "execution_count": 28,
   "metadata": {},
   "outputs": [],
   "source": [
    "model.compile(optimizer='adam', loss='categorical_crossentropy', metrics=['accuracy'])"
   ]
  },
  {
   "cell_type": "code",
   "execution_count": 29,
   "metadata": {},
   "outputs": [
    {
     "name": "stdout",
     "output_type": "stream",
     "text": [
      "_________________________________________________________________\n",
      "Layer (type)                 Output Shape              Param #   \n",
      "=================================================================\n",
      "embedding_1 (Embedding)      (None, 6, 256)            445696    \n",
      "_________________________________________________________________\n",
      "lstm_1 (LSTM)                (None, 256)               525312    \n",
      "_________________________________________________________________\n",
      "repeat_vector_1 (RepeatVecto (None, 10, 256)           0         \n",
      "_________________________________________________________________\n",
      "lstm_2 (LSTM)                (None, 10, 256)           525312    \n",
      "_________________________________________________________________\n",
      "time_distributed_1 (TimeDist (None, 10, 2713)          697241    \n",
      "=================================================================\n",
      "Total params: 2,193,561\n",
      "Trainable params: 2,193,561\n",
      "Non-trainable params: 0\n",
      "_________________________________________________________________\n"
     ]
    }
   ],
   "source": [
    "model.summary()"
   ]
  },
  {
   "cell_type": "code",
   "execution_count": 30,
   "metadata": {},
   "outputs": [],
   "source": [
    "model_name = 'model_31_07_2.h5'"
   ]
  },
  {
   "cell_type": "code",
   "execution_count": 31,
   "metadata": {},
   "outputs": [],
   "source": [
    "checkpoint = ModelCheckpoint(model_name, monitor='val_loss', verbose=1, save_best_only=True, mode='min')\n"
   ]
  },
  {
   "cell_type": "code",
   "execution_count": 32,
   "metadata": {},
   "outputs": [
    {
     "name": "stdout",
     "output_type": "stream",
     "text": [
      "Train on 9000 samples, validate on 1000 samples\n",
      "Epoch 1/30\n",
      " - 34s - loss: 2.4525 - acc: 0.7431 - val_loss: 1.7279 - val_acc: 0.7470\n",
      "\n",
      "Epoch 00001: val_loss improved from inf to 1.72792, saving model to model_31_07_2.h5\n",
      "Epoch 2/30\n",
      " - 38s - loss: 1.6187 - acc: 0.7553 - val_loss: 1.6323 - val_acc: 0.7541\n",
      "\n",
      "Epoch 00002: val_loss improved from 1.72792 to 1.63233, saving model to model_31_07_2.h5\n",
      "Epoch 3/30\n",
      " - 40s - loss: 1.5591 - acc: 0.7577 - val_loss: 1.6147 - val_acc: 0.7586\n",
      "\n",
      "Epoch 00003: val_loss improved from 1.63233 to 1.61473, saving model to model_31_07_2.h5\n",
      "Epoch 4/30\n",
      " - 37s - loss: 1.5258 - acc: 0.7602 - val_loss: 1.5974 - val_acc: 0.7613\n",
      "\n",
      "Epoch 00004: val_loss improved from 1.61473 to 1.59744, saving model to model_31_07_2.h5\n",
      "Epoch 5/30\n",
      " - 43s - loss: 1.4952 - acc: 0.7617 - val_loss: 1.5807 - val_acc: 0.7628\n",
      "\n",
      "Epoch 00005: val_loss improved from 1.59744 to 1.58067, saving model to model_31_07_2.h5\n",
      "Epoch 6/30\n",
      " - 43s - loss: 1.4594 - acc: 0.7637 - val_loss: 1.5440 - val_acc: 0.7653\n",
      "\n",
      "Epoch 00006: val_loss improved from 1.58067 to 1.54401, saving model to model_31_07_2.h5\n",
      "Epoch 7/30\n",
      " - 41s - loss: 1.4129 - acc: 0.7670 - val_loss: 1.5086 - val_acc: 0.7686\n",
      "\n",
      "Epoch 00007: val_loss improved from 1.54401 to 1.50858, saving model to model_31_07_2.h5\n",
      "Epoch 8/30\n",
      " - 41s - loss: 1.3593 - acc: 0.7709 - val_loss: 1.4705 - val_acc: 0.7724\n",
      "\n",
      "Epoch 00008: val_loss improved from 1.50858 to 1.47055, saving model to model_31_07_2.h5\n",
      "Epoch 9/30\n",
      " - 39s - loss: 1.3065 - acc: 0.7752 - val_loss: 1.4368 - val_acc: 0.7760\n",
      "\n",
      "Epoch 00009: val_loss improved from 1.47055 to 1.43676, saving model to model_31_07_2.h5\n",
      "Epoch 10/30\n",
      " - 40s - loss: 1.2546 - acc: 0.7796 - val_loss: 1.4088 - val_acc: 0.7789\n",
      "\n",
      "Epoch 00010: val_loss improved from 1.43676 to 1.40878, saving model to model_31_07_2.h5\n",
      "Epoch 11/30\n",
      " - 41s - loss: 1.2047 - acc: 0.7839 - val_loss: 1.3833 - val_acc: 0.7829\n",
      "\n",
      "Epoch 00011: val_loss improved from 1.40878 to 1.38333, saving model to model_31_07_2.h5\n",
      "Epoch 12/30\n",
      " - 41s - loss: 1.1523 - acc: 0.7883 - val_loss: 1.3564 - val_acc: 0.7854\n",
      "\n",
      "Epoch 00012: val_loss improved from 1.38333 to 1.35641, saving model to model_31_07_2.h5\n",
      "Epoch 13/30\n",
      " - 41s - loss: 1.1028 - acc: 0.7931 - val_loss: 1.3294 - val_acc: 0.7884\n",
      "\n",
      "Epoch 00013: val_loss improved from 1.35641 to 1.32937, saving model to model_31_07_2.h5\n",
      "Epoch 14/30\n",
      " - 37s - loss: 1.0522 - acc: 0.7986 - val_loss: 1.3107 - val_acc: 0.7904\n",
      "\n",
      "Epoch 00014: val_loss improved from 1.32937 to 1.31069, saving model to model_31_07_2.h5\n",
      "Epoch 15/30\n",
      " - 38s - loss: 1.0051 - acc: 0.8037 - val_loss: 1.2969 - val_acc: 0.7929\n",
      "\n",
      "Epoch 00015: val_loss improved from 1.31069 to 1.29693, saving model to model_31_07_2.h5\n",
      "Epoch 16/30\n",
      " - 37s - loss: 0.9585 - acc: 0.8084 - val_loss: 1.2781 - val_acc: 0.7950\n",
      "\n",
      "Epoch 00016: val_loss improved from 1.29693 to 1.27807, saving model to model_31_07_2.h5\n",
      "Epoch 17/30\n",
      " - 39s - loss: 0.9144 - acc: 0.8133 - val_loss: 1.2717 - val_acc: 0.7976\n",
      "\n",
      "Epoch 00017: val_loss improved from 1.27807 to 1.27169, saving model to model_31_07_2.h5\n",
      "Epoch 18/30\n",
      " - 37s - loss: 0.8722 - acc: 0.8176 - val_loss: 1.2582 - val_acc: 0.7987\n",
      "\n",
      "Epoch 00018: val_loss improved from 1.27169 to 1.25820, saving model to model_31_07_2.h5\n",
      "Epoch 19/30\n",
      " - 37s - loss: 0.8306 - acc: 0.8225 - val_loss: 1.2483 - val_acc: 0.8011\n",
      "\n",
      "Epoch 00019: val_loss improved from 1.25820 to 1.24830, saving model to model_31_07_2.h5\n",
      "Epoch 20/30\n",
      " - 37s - loss: 0.7917 - acc: 0.8273 - val_loss: 1.2383 - val_acc: 0.8024\n",
      "\n",
      "Epoch 00020: val_loss improved from 1.24830 to 1.23830, saving model to model_31_07_2.h5\n",
      "Epoch 21/30\n",
      " - 35s - loss: 0.7531 - acc: 0.8322 - val_loss: 1.2356 - val_acc: 0.8033\n",
      "\n",
      "Epoch 00021: val_loss improved from 1.23830 to 1.23565, saving model to model_31_07_2.h5\n",
      "Epoch 22/30\n",
      " - 36s - loss: 0.7167 - acc: 0.8370 - val_loss: 1.2319 - val_acc: 0.8063\n",
      "\n",
      "Epoch 00022: val_loss improved from 1.23565 to 1.23189, saving model to model_31_07_2.h5\n",
      "Epoch 23/30\n",
      " - 35s - loss: 0.6817 - acc: 0.8427 - val_loss: 1.2312 - val_acc: 0.8062\n",
      "\n",
      "Epoch 00023: val_loss improved from 1.23189 to 1.23118, saving model to model_31_07_2.h5\n",
      "Epoch 24/30\n",
      " - 35s - loss: 0.6511 - acc: 0.8477 - val_loss: 1.2292 - val_acc: 0.8046\n",
      "\n",
      "Epoch 00024: val_loss improved from 1.23118 to 1.22918, saving model to model_31_07_2.h5\n",
      "Epoch 25/30\n",
      " - 35s - loss: 0.6183 - acc: 0.8534 - val_loss: 1.2310 - val_acc: 0.8059\n",
      "\n",
      "Epoch 00025: val_loss did not improve from 1.22918\n",
      "Epoch 26/30\n",
      " - 32s - loss: 0.5883 - acc: 0.8585 - val_loss: 1.2274 - val_acc: 0.8079\n",
      "\n",
      "Epoch 00026: val_loss improved from 1.22918 to 1.22739, saving model to model_31_07_2.h5\n",
      "Epoch 27/30\n",
      " - 31s - loss: 0.5599 - acc: 0.8640 - val_loss: 1.2316 - val_acc: 0.8089\n",
      "\n",
      "Epoch 00027: val_loss did not improve from 1.22739\n",
      "Epoch 28/30\n",
      " - 31s - loss: 0.5328 - acc: 0.8696 - val_loss: 1.2355 - val_acc: 0.8086\n",
      "\n",
      "Epoch 00028: val_loss did not improve from 1.22739\n",
      "Epoch 29/30\n",
      " - 31s - loss: 0.5075 - acc: 0.8754 - val_loss: 1.2353 - val_acc: 0.8075\n",
      "\n",
      "Epoch 00029: val_loss did not improve from 1.22739\n",
      "Epoch 30/30\n",
      " - 29s - loss: 0.4835 - acc: 0.8797 - val_loss: 1.2406 - val_acc: 0.8094\n",
      "\n",
      "Epoch 00030: val_loss did not improve from 1.22739\n"
     ]
    },
    {
     "data": {
      "text/plain": [
       "<keras.callbacks.History at 0x109fcc7f0>"
      ]
     },
     "execution_count": 32,
     "metadata": {},
     "output_type": "execute_result"
    }
   ],
   "source": [
    "model.fit(trainX, trainY, epochs=30, batch_size=64, validation_data=(testX, testY), callbacks=[checkpoint], verbose=2)\n"
   ]
  },
  {
   "cell_type": "code",
   "execution_count": null,
   "metadata": {},
   "outputs": [],
   "source": []
  },
  {
   "cell_type": "code",
   "execution_count": null,
   "metadata": {},
   "outputs": [],
   "source": []
  },
  {
   "cell_type": "code",
   "execution_count": null,
   "metadata": {},
   "outputs": [],
   "source": []
  },
  {
   "cell_type": "code",
   "execution_count": null,
   "metadata": {},
   "outputs": [],
   "source": []
  },
  {
   "cell_type": "code",
   "execution_count": null,
   "metadata": {},
   "outputs": [],
   "source": []
  },
  {
   "cell_type": "code",
   "execution_count": null,
   "metadata": {},
   "outputs": [],
   "source": []
  },
  {
   "cell_type": "code",
   "execution_count": null,
   "metadata": {},
   "outputs": [],
   "source": []
  },
  {
   "cell_type": "code",
   "execution_count": null,
   "metadata": {},
   "outputs": [],
   "source": []
  },
  {
   "cell_type": "code",
   "execution_count": null,
   "metadata": {},
   "outputs": [],
   "source": []
  },
  {
   "cell_type": "code",
   "execution_count": null,
   "metadata": {},
   "outputs": [],
   "source": []
  }
 ],
 "metadata": {
  "kernelspec": {
   "display_name": "Python 3",
   "language": "python",
   "name": "python3"
  },
  "language_info": {
   "codemirror_mode": {
    "name": "ipython",
    "version": 3
   },
   "file_extension": ".py",
   "mimetype": "text/x-python",
   "name": "python",
   "nbconvert_exporter": "python",
   "pygments_lexer": "ipython3",
   "version": "3.6.5"
  }
 },
 "nbformat": 4,
 "nbformat_minor": 2
}
